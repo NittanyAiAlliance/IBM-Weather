{
 "cells": [
  {
   "cell_type": "code",
   "execution_count": 629,
   "id": "3a9fee6c-ad85-4771-8db6-bb3c237f4370",
   "metadata": {},
   "outputs": [
    {
     "name": "stdout",
     "output_type": "stream",
     "text": [
      "\u001b[33mWARNING: Ignoring invalid distribution -eras (/Users/jackzhang/opt/anaconda3/lib/python3.8/site-packages)\u001b[0m\u001b[33m\n",
      "\u001b[0m\u001b[33mWARNING: Ignoring invalid distribution -eras (/Users/jackzhang/opt/anaconda3/lib/python3.8/site-packages)\u001b[0m\u001b[33m\n",
      "\u001b[0mRequirement already satisfied: tensorflow==2.10.0 in /Users/jackzhang/opt/anaconda3/lib/python3.8/site-packages (2.10.0)\n",
      "Requirement already satisfied: numpy>=1.20 in /Users/jackzhang/opt/anaconda3/lib/python3.8/site-packages (from tensorflow==2.10.0) (1.20.1)\n",
      "Requirement already satisfied: libclang>=13.0.0 in /Users/jackzhang/opt/anaconda3/lib/python3.8/site-packages (from tensorflow==2.10.0) (13.0.0)\n",
      "Requirement already satisfied: tensorflow-io-gcs-filesystem>=0.23.1 in /Users/jackzhang/opt/anaconda3/lib/python3.8/site-packages (from tensorflow==2.10.0) (0.24.0)\n",
      "Requirement already satisfied: flatbuffers>=2.0 in /Users/jackzhang/opt/anaconda3/lib/python3.8/site-packages (from tensorflow==2.10.0) (2.0)\n",
      "Requirement already satisfied: protobuf<3.20,>=3.9.2 in /Users/jackzhang/opt/anaconda3/lib/python3.8/site-packages (from tensorflow==2.10.0) (3.19.6)\n",
      "Requirement already satisfied: gast<=0.4.0,>=0.2.1 in /Users/jackzhang/opt/anaconda3/lib/python3.8/site-packages (from tensorflow==2.10.0) (0.4.0)\n",
      "Requirement already satisfied: grpcio<2.0,>=1.24.3 in /Users/jackzhang/opt/anaconda3/lib/python3.8/site-packages (from tensorflow==2.10.0) (1.46.3)\n",
      "Requirement already satisfied: h5py>=2.9.0 in /Users/jackzhang/opt/anaconda3/lib/python3.8/site-packages (from tensorflow==2.10.0) (2.10.0)\n",
      "Requirement already satisfied: packaging in /Users/jackzhang/opt/anaconda3/lib/python3.8/site-packages (from tensorflow==2.10.0) (20.9)\n",
      "Requirement already satisfied: absl-py>=1.0.0 in /Users/jackzhang/opt/anaconda3/lib/python3.8/site-packages (from tensorflow==2.10.0) (1.0.0)\n",
      "Requirement already satisfied: keras-preprocessing>=1.1.1 in /Users/jackzhang/opt/anaconda3/lib/python3.8/site-packages (from tensorflow==2.10.0) (1.1.2)\n",
      "Requirement already satisfied: tensorflow-estimator<2.11,>=2.10.0 in /Users/jackzhang/opt/anaconda3/lib/python3.8/site-packages (from tensorflow==2.10.0) (2.10.0)\n",
      "Requirement already satisfied: tensorboard<2.11,>=2.10 in /Users/jackzhang/opt/anaconda3/lib/python3.8/site-packages (from tensorflow==2.10.0) (2.10.1)\n",
      "Requirement already satisfied: keras<2.11,>=2.10.0 in /Users/jackzhang/opt/anaconda3/lib/python3.8/site-packages (from tensorflow==2.10.0) (2.10.0)\n",
      "Requirement already satisfied: setuptools in /Users/jackzhang/opt/anaconda3/lib/python3.8/site-packages (from tensorflow==2.10.0) (52.0.0.post20210125)\n",
      "Requirement already satisfied: typing-extensions>=3.6.6 in /Users/jackzhang/opt/anaconda3/lib/python3.8/site-packages (from tensorflow==2.10.0) (3.7.4.3)\n",
      "Requirement already satisfied: opt-einsum>=2.3.2 in /Users/jackzhang/opt/anaconda3/lib/python3.8/site-packages (from tensorflow==2.10.0) (3.3.0)\n",
      "Requirement already satisfied: google-pasta>=0.1.1 in /Users/jackzhang/opt/anaconda3/lib/python3.8/site-packages (from tensorflow==2.10.0) (0.2.0)\n",
      "Requirement already satisfied: termcolor>=1.1.0 in /Users/jackzhang/opt/anaconda3/lib/python3.8/site-packages (from tensorflow==2.10.0) (1.1.0)\n",
      "Requirement already satisfied: wrapt>=1.11.0 in /Users/jackzhang/opt/anaconda3/lib/python3.8/site-packages (from tensorflow==2.10.0) (1.12.1)\n",
      "Requirement already satisfied: six>=1.12.0 in /Users/jackzhang/opt/anaconda3/lib/python3.8/site-packages (from tensorflow==2.10.0) (1.15.0)\n",
      "Requirement already satisfied: astunparse>=1.6.0 in /Users/jackzhang/opt/anaconda3/lib/python3.8/site-packages (from tensorflow==2.10.0) (1.6.3)\n",
      "Requirement already satisfied: wheel<1.0,>=0.23.0 in /Users/jackzhang/opt/anaconda3/lib/python3.8/site-packages (from astunparse>=1.6.0->tensorflow==2.10.0) (0.36.2)\n",
      "Requirement already satisfied: tensorboard-plugin-wit>=1.6.0 in /Users/jackzhang/opt/anaconda3/lib/python3.8/site-packages (from tensorboard<2.11,>=2.10->tensorflow==2.10.0) (1.8.1)\n",
      "Requirement already satisfied: google-auth-oauthlib<0.5,>=0.4.1 in /Users/jackzhang/opt/anaconda3/lib/python3.8/site-packages (from tensorboard<2.11,>=2.10->tensorflow==2.10.0) (0.4.6)\n",
      "Requirement already satisfied: markdown>=2.6.8 in /Users/jackzhang/opt/anaconda3/lib/python3.8/site-packages (from tensorboard<2.11,>=2.10->tensorflow==2.10.0) (3.3.6)\n",
      "Requirement already satisfied: requests<3,>=2.21.0 in /Users/jackzhang/opt/anaconda3/lib/python3.8/site-packages (from tensorboard<2.11,>=2.10->tensorflow==2.10.0) (2.25.1)\n",
      "Requirement already satisfied: google-auth<3,>=1.6.3 in /Users/jackzhang/opt/anaconda3/lib/python3.8/site-packages (from tensorboard<2.11,>=2.10->tensorflow==2.10.0) (2.6.2)\n",
      "Requirement already satisfied: tensorboard-data-server<0.7.0,>=0.6.0 in /Users/jackzhang/opt/anaconda3/lib/python3.8/site-packages (from tensorboard<2.11,>=2.10->tensorflow==2.10.0) (0.6.1)\n",
      "Requirement already satisfied: werkzeug>=1.0.1 in /Users/jackzhang/opt/anaconda3/lib/python3.8/site-packages (from tensorboard<2.11,>=2.10->tensorflow==2.10.0) (1.0.1)\n",
      "Requirement already satisfied: pyparsing>=2.0.2 in /Users/jackzhang/opt/anaconda3/lib/python3.8/site-packages (from packaging->tensorflow==2.10.0) (2.4.7)\n",
      "Requirement already satisfied: cachetools<6.0,>=2.0.0 in /Users/jackzhang/opt/anaconda3/lib/python3.8/site-packages (from google-auth<3,>=1.6.3->tensorboard<2.11,>=2.10->tensorflow==2.10.0) (5.0.0)\n",
      "Requirement already satisfied: pyasn1-modules>=0.2.1 in /Users/jackzhang/opt/anaconda3/lib/python3.8/site-packages (from google-auth<3,>=1.6.3->tensorboard<2.11,>=2.10->tensorflow==2.10.0) (0.2.8)\n",
      "Requirement already satisfied: rsa<5,>=3.1.4 in /Users/jackzhang/opt/anaconda3/lib/python3.8/site-packages (from google-auth<3,>=1.6.3->tensorboard<2.11,>=2.10->tensorflow==2.10.0) (4.8)\n",
      "Requirement already satisfied: requests-oauthlib>=0.7.0 in /Users/jackzhang/opt/anaconda3/lib/python3.8/site-packages (from google-auth-oauthlib<0.5,>=0.4.1->tensorboard<2.11,>=2.10->tensorflow==2.10.0) (1.3.1)\n",
      "Requirement already satisfied: importlib-metadata>=4.4 in /Users/jackzhang/opt/anaconda3/lib/python3.8/site-packages (from markdown>=2.6.8->tensorboard<2.11,>=2.10->tensorflow==2.10.0) (4.11.3)\n",
      "Requirement already satisfied: idna<3,>=2.5 in /Users/jackzhang/opt/anaconda3/lib/python3.8/site-packages (from requests<3,>=2.21.0->tensorboard<2.11,>=2.10->tensorflow==2.10.0) (2.10)\n",
      "Requirement already satisfied: urllib3<1.27,>=1.21.1 in /Users/jackzhang/opt/anaconda3/lib/python3.8/site-packages (from requests<3,>=2.21.0->tensorboard<2.11,>=2.10->tensorflow==2.10.0) (1.26.4)\n",
      "Requirement already satisfied: certifi>=2017.4.17 in /Users/jackzhang/opt/anaconda3/lib/python3.8/site-packages (from requests<3,>=2.21.0->tensorboard<2.11,>=2.10->tensorflow==2.10.0) (2020.12.5)\n",
      "Requirement already satisfied: chardet<5,>=3.0.2 in /Users/jackzhang/opt/anaconda3/lib/python3.8/site-packages (from requests<3,>=2.21.0->tensorboard<2.11,>=2.10->tensorflow==2.10.0) (4.0.0)\n",
      "Requirement already satisfied: zipp>=0.5 in /Users/jackzhang/opt/anaconda3/lib/python3.8/site-packages (from importlib-metadata>=4.4->markdown>=2.6.8->tensorboard<2.11,>=2.10->tensorflow==2.10.0) (3.4.1)\n",
      "Requirement already satisfied: pyasn1<0.5.0,>=0.4.6 in /Users/jackzhang/opt/anaconda3/lib/python3.8/site-packages (from pyasn1-modules>=0.2.1->google-auth<3,>=1.6.3->tensorboard<2.11,>=2.10->tensorflow==2.10.0) (0.4.8)\n",
      "Requirement already satisfied: oauthlib>=3.0.0 in /Users/jackzhang/opt/anaconda3/lib/python3.8/site-packages (from requests-oauthlib>=0.7.0->google-auth-oauthlib<0.5,>=0.4.1->tensorboard<2.11,>=2.10->tensorflow==2.10.0) (3.2.0)\n",
      "\u001b[33mWARNING: Ignoring invalid distribution -eras (/Users/jackzhang/opt/anaconda3/lib/python3.8/site-packages)\u001b[0m\u001b[33m\n",
      "\u001b[0m\u001b[33mWARNING: Ignoring invalid distribution -eras (/Users/jackzhang/opt/anaconda3/lib/python3.8/site-packages)\u001b[0m\u001b[33m\n",
      "\u001b[0m\u001b[33mWARNING: Ignoring invalid distribution -eras (/Users/jackzhang/opt/anaconda3/lib/python3.8/site-packages)\u001b[0m\u001b[33m\n",
      "\u001b[0m\u001b[33mWARNING: Ignoring invalid distribution -eras (/Users/jackzhang/opt/anaconda3/lib/python3.8/site-packages)\u001b[0m\u001b[33m\n",
      "\u001b[0m\n",
      "\u001b[1m[\u001b[0m\u001b[34;49mnotice\u001b[0m\u001b[1;39;49m]\u001b[0m\u001b[39;49m A new release of pip available: \u001b[0m\u001b[31;49m22.2.1\u001b[0m\u001b[39;49m -> \u001b[0m\u001b[32;49m22.3\u001b[0m\n",
      "\u001b[1m[\u001b[0m\u001b[34;49mnotice\u001b[0m\u001b[1;39;49m]\u001b[0m\u001b[39;49m To update, run: \u001b[0m\u001b[32;49mpip install --upgrade pip\u001b[0m\n"
     ]
    }
   ],
   "source": [
    "!pip install tensorflow==2.10.0\n",
    "from tensorflow.keras.models import Model\n",
    "from tensorflow.keras.layers import Dense, Activation, Permute, Dropout\n",
    "from tensorflow.keras.layers import Conv2D, MaxPooling2D, AveragePooling2D, Conv3D\n",
    "from tensorflow.keras.layers import SeparableConv2D, DepthwiseConv2D\n",
    "from tensorflow.keras.layers import BatchNormalization\n",
    "from tensorflow.keras.layers import SpatialDropout2D\n",
    "from tensorflow.keras.regularizers import l1_l2\n",
    "from tensorflow.keras.layers import Input, Flatten\n",
    "from tensorflow.keras.constraints import max_norm\n",
    "from tensorflow.keras import backend as K\n",
    "import tensorflow as tf\n",
    "import pandas as pd\n",
    "import numpy as np\n",
    "from datetime import datetime\n",
    "from datetime import timedelta\n",
    "from pandas import DataFrame as df\n",
    "import matplotlib.pyplot as plt\n",
    "from sklearn.model_selection import train_test_split\n",
    "from keras.callbacks import EarlyStopping\n",
    "    \n",
    "def CompleteModel(months, lats,lons , featureNum, spatialKernelShape = (4,4),\n",
    "            S1 = 2, norm_rate = 0.25,):\n",
    "    temporalKernelShape = (1,1)\n",
    "    input1   = Input(shape = (lats,lons, months * featureNum))\n",
    "    \n",
    "    ##################################################################\n",
    "    block1 = BatchNormalization()(input1)\n",
    "    block1 = AveragePooling2D((4, 4), padding='valid',strides = (1,1))(block1)\n",
    "    # Spatial Informaiton Extraction\n",
    "    block1 = DepthwiseConv2D(depth_multiplier = 1,kernel_size = spatialKernelShape, padding = 'same',strides = (1,1))(block1)\n",
    "    block1 = AveragePooling2D((4, 4),padding='valid',strides = (4,4))(block1)\n",
    "    block1 = BatchNormalization()(block1)\n",
    "    # Temporal Information Extraction\n",
    "    block1 = Conv2D(filters = featureNum*2,groups = 2,kernel_size = temporalKernelShape, padding = 'same',strides = (1,1))(block1)\n",
    "    block1 = Activation('leaky_relu')(block1)\n",
    "    block1 = AveragePooling2D((4, 4),padding='same',strides = (1,1))(block1)\n",
    "        \n",
    "    #block2 = SeparableConv2D(S1, (2,2),\n",
    "    #                               use_bias = False, padding = 'same')(block1)\n",
    "    block2 = Conv2d(filters = 4, )\n",
    "    block2       = Activation('leaky_relu')(block2)\n",
    "    flatten = Flatten()(block2)\n",
    "    \n",
    "    dense1 = Dense(10,activation = 'leaky_relu')(flatten)\n",
    "    dense2 = Dense(1, activation = 'linear',use_bias = True)(dense1)\n",
    "    \n",
    "    return Model(inputs=input1, outputs=dense2)\n",
    "\n"
   ]
  },
  {
   "cell_type": "code",
   "execution_count": 377,
   "id": "7b01abe0-3029-4d6f-ac75-b2477a99c647",
   "metadata": {},
   "outputs": [],
   "source": [
    "from numpy.random import seed\n",
    "seed(0)\n",
    "tf.random.set_seed(0)"
   ]
  },
  {
   "cell_type": "code",
   "execution_count": null,
   "id": "e0b4ce7d-3819-4494-844c-fc235ef2de14",
   "metadata": {},
   "outputs": [],
   "source": []
  },
  {
   "cell_type": "code",
   "execution_count": null,
   "id": "08e0444f-8070-490e-b111-fd050a4135a3",
   "metadata": {},
   "outputs": [],
   "source": []
  },
  {
   "cell_type": "code",
   "execution_count": null,
   "id": "42d9a7df-a5e7-4290-9ff2-17c2d23e0c53",
   "metadata": {},
   "outputs": [],
   "source": []
  },
  {
   "cell_type": "code",
   "execution_count": null,
   "id": "10b6c089-d30b-4f15-87ba-15a0a9384aae",
   "metadata": {},
   "outputs": [],
   "source": []
  },
  {
   "cell_type": "code",
   "execution_count": null,
   "id": "cf7e0380-ab97-49d5-b7ae-0718df46db8f",
   "metadata": {},
   "outputs": [],
   "source": []
  },
  {
   "cell_type": "code",
   "execution_count": 454,
   "id": "c2d73ca8-258b-4864-ab56-e43ab1e1fbe6",
   "metadata": {},
   "outputs": [],
   "source": [
    "# Read Data\n",
    "feat = pd.read_csv(\"../Data/MERRA2/NormalizedFeatures.csv\").drop(['Unnamed: 0'],axis = 1)\n",
    "TCcount = pd.read_csv(\"../Data/TC Count/IBTrACS/IBTrACS(1980-P, 100W-20W&10N-40N).csv\")\n",
    "feat['time'] = pd.to_datetime(feat['time'])\n",
    "feat = feat.loc[(feat['time'].dt.month <= 5) & (feat['time'].dt.year > 1980) & (feat['time'].dt.year < 2022)]\n",
    "TCcount = TCcount.loc[(TCcount['SEASON'] > 1980) & (TCcount['SEASON'] < 2022)]"
   ]
  },
  {
   "cell_type": "code",
   "execution_count": 455,
   "id": "eb79dd05-1be9-47d2-8fcc-7059ef925c7e",
   "metadata": {},
   "outputs": [
    {
     "data": {
      "text/html": [
       "<div>\n",
       "<style scoped>\n",
       "    .dataframe tbody tr th:only-of-type {\n",
       "        vertical-align: middle;\n",
       "    }\n",
       "\n",
       "    .dataframe tbody tr th {\n",
       "        vertical-align: top;\n",
       "    }\n",
       "\n",
       "    .dataframe thead th {\n",
       "        text-align: right;\n",
       "    }\n",
       "</style>\n",
       "<table border=\"1\" class=\"dataframe\">\n",
       "  <thead>\n",
       "    <tr style=\"text-align: right;\">\n",
       "      <th></th>\n",
       "      <th>time</th>\n",
       "      <th>lon</th>\n",
       "      <th>lat</th>\n",
       "      <th>OMEGA500</th>\n",
       "      <th>SLP</th>\n",
       "      <th>U500</th>\n",
       "      <th>SSSMASS</th>\n",
       "      <th>month</th>\n",
       "      <th>year</th>\n",
       "    </tr>\n",
       "  </thead>\n",
       "  <tbody>\n",
       "    <tr>\n",
       "      <th>86559</th>\n",
       "      <td>1981-01-01</td>\n",
       "      <td>-100.0</td>\n",
       "      <td>10.0</td>\n",
       "      <td>0.682125</td>\n",
       "      <td>0.398674</td>\n",
       "      <td>0.235564</td>\n",
       "      <td>0.150067</td>\n",
       "      <td>1</td>\n",
       "      <td>1981</td>\n",
       "    </tr>\n",
       "    <tr>\n",
       "      <th>86560</th>\n",
       "      <td>1981-01-01</td>\n",
       "      <td>-100.0</td>\n",
       "      <td>10.5</td>\n",
       "      <td>0.681483</td>\n",
       "      <td>0.402729</td>\n",
       "      <td>0.239629</td>\n",
       "      <td>0.156719</td>\n",
       "      <td>1</td>\n",
       "      <td>1981</td>\n",
       "    </tr>\n",
       "    <tr>\n",
       "      <th>86561</th>\n",
       "      <td>1981-01-01</td>\n",
       "      <td>-100.0</td>\n",
       "      <td>11.0</td>\n",
       "      <td>0.680792</td>\n",
       "      <td>0.406284</td>\n",
       "      <td>0.244860</td>\n",
       "      <td>0.163706</td>\n",
       "      <td>1</td>\n",
       "      <td>1981</td>\n",
       "    </tr>\n",
       "    <tr>\n",
       "      <th>86562</th>\n",
       "      <td>1981-01-01</td>\n",
       "      <td>-100.0</td>\n",
       "      <td>11.5</td>\n",
       "      <td>0.680263</td>\n",
       "      <td>0.409389</td>\n",
       "      <td>0.252569</td>\n",
       "      <td>0.169086</td>\n",
       "      <td>1</td>\n",
       "      <td>1981</td>\n",
       "    </tr>\n",
       "    <tr>\n",
       "      <th>86563</th>\n",
       "      <td>1981-01-01</td>\n",
       "      <td>-100.0</td>\n",
       "      <td>12.0</td>\n",
       "      <td>0.680129</td>\n",
       "      <td>0.412352</td>\n",
       "      <td>0.262794</td>\n",
       "      <td>0.174016</td>\n",
       "      <td>1</td>\n",
       "      <td>1981</td>\n",
       "    </tr>\n",
       "    <tr>\n",
       "      <th>...</th>\n",
       "      <td>...</td>\n",
       "      <td>...</td>\n",
       "      <td>...</td>\n",
       "      <td>...</td>\n",
       "      <td>...</td>\n",
       "      <td>...</td>\n",
       "      <td>...</td>\n",
       "      <td>...</td>\n",
       "      <td>...</td>\n",
       "    </tr>\n",
       "    <tr>\n",
       "      <th>3903019</th>\n",
       "      <td>2021-05-01</td>\n",
       "      <td>-20.0</td>\n",
       "      <td>38.0</td>\n",
       "      <td>0.704109</td>\n",
       "      <td>0.694664</td>\n",
       "      <td>0.442277</td>\n",
       "      <td>0.054698</td>\n",
       "      <td>5</td>\n",
       "      <td>2021</td>\n",
       "    </tr>\n",
       "    <tr>\n",
       "      <th>3903020</th>\n",
       "      <td>2021-05-01</td>\n",
       "      <td>-20.0</td>\n",
       "      <td>38.5</td>\n",
       "      <td>0.700855</td>\n",
       "      <td>0.689762</td>\n",
       "      <td>0.454413</td>\n",
       "      <td>0.057722</td>\n",
       "      <td>5</td>\n",
       "      <td>2021</td>\n",
       "    </tr>\n",
       "    <tr>\n",
       "      <th>3903021</th>\n",
       "      <td>2021-05-01</td>\n",
       "      <td>-20.0</td>\n",
       "      <td>39.0</td>\n",
       "      <td>0.697471</td>\n",
       "      <td>0.683551</td>\n",
       "      <td>0.466451</td>\n",
       "      <td>0.061900</td>\n",
       "      <td>5</td>\n",
       "      <td>2021</td>\n",
       "    </tr>\n",
       "    <tr>\n",
       "      <th>3903022</th>\n",
       "      <td>2021-05-01</td>\n",
       "      <td>-20.0</td>\n",
       "      <td>39.5</td>\n",
       "      <td>0.693790</td>\n",
       "      <td>0.676209</td>\n",
       "      <td>0.478088</td>\n",
       "      <td>0.066258</td>\n",
       "      <td>5</td>\n",
       "      <td>2021</td>\n",
       "    </tr>\n",
       "    <tr>\n",
       "      <th>3903023</th>\n",
       "      <td>2021-05-01</td>\n",
       "      <td>-20.0</td>\n",
       "      <td>40.0</td>\n",
       "      <td>0.691028</td>\n",
       "      <td>0.668007</td>\n",
       "      <td>0.489927</td>\n",
       "      <td>0.071350</td>\n",
       "      <td>5</td>\n",
       "      <td>2021</td>\n",
       "    </tr>\n",
       "  </tbody>\n",
       "</table>\n",
       "<p>1613145 rows × 9 columns</p>\n",
       "</div>"
      ],
      "text/plain": [
       "              time    lon   lat  OMEGA500       SLP      U500   SSSMASS  \\\n",
       "86559   1981-01-01 -100.0  10.0  0.682125  0.398674  0.235564  0.150067   \n",
       "86560   1981-01-01 -100.0  10.5  0.681483  0.402729  0.239629  0.156719   \n",
       "86561   1981-01-01 -100.0  11.0  0.680792  0.406284  0.244860  0.163706   \n",
       "86562   1981-01-01 -100.0  11.5  0.680263  0.409389  0.252569  0.169086   \n",
       "86563   1981-01-01 -100.0  12.0  0.680129  0.412352  0.262794  0.174016   \n",
       "...            ...    ...   ...       ...       ...       ...       ...   \n",
       "3903019 2021-05-01  -20.0  38.0  0.704109  0.694664  0.442277  0.054698   \n",
       "3903020 2021-05-01  -20.0  38.5  0.700855  0.689762  0.454413  0.057722   \n",
       "3903021 2021-05-01  -20.0  39.0  0.697471  0.683551  0.466451  0.061900   \n",
       "3903022 2021-05-01  -20.0  39.5  0.693790  0.676209  0.478088  0.066258   \n",
       "3903023 2021-05-01  -20.0  40.0  0.691028  0.668007  0.489927  0.071350   \n",
       "\n",
       "         month  year  \n",
       "86559        1  1981  \n",
       "86560        1  1981  \n",
       "86561        1  1981  \n",
       "86562        1  1981  \n",
       "86563        1  1981  \n",
       "...        ...   ...  \n",
       "3903019      5  2021  \n",
       "3903020      5  2021  \n",
       "3903021      5  2021  \n",
       "3903022      5  2021  \n",
       "3903023      5  2021  \n",
       "\n",
       "[1613145 rows x 9 columns]"
      ]
     },
     "execution_count": 455,
     "metadata": {},
     "output_type": "execute_result"
    }
   ],
   "source": [
    "feat"
   ]
  },
  {
   "cell_type": "code",
   "execution_count": 456,
   "id": "616660a8-cdf8-484c-ae5a-a53d8f5f3ce4",
   "metadata": {},
   "outputs": [],
   "source": [
    "# reshaped inputs to years * number of features times number of months * longitudes * latitudes\n",
    "# in every year (3D dataset), features (2D layer) across months are stacked together. \n",
    "# i.e., first 5 layers are the OMEGA500 from Jan to May in that year, 6-10 are SLP, 11-15 are U500, etc.\n",
    "coordinations = len(np.unique(feat['lon'])) * len(np.unique(feat['lat']))\n",
    "years = np.unique(feat['year'])\n",
    "months = np.unique(feat['month'])\n",
    "lons = np.unique(feat['lon'])\n",
    "lats = np.unique(feat['lat'])\n",
    "featuresNum = 4\n",
    "features = ['OMEGA500','SLP','U500','SSSMASS']\n",
    "x = np.zeros((len(years),featuresNum * len(months),len(lons),len(lats)))\n",
    "for yearIndex in range(len(years)):\n",
    "    tempDF = feat.loc[feat['year'] == years[yearIndex]]\n",
    "    for featIndex in range(featuresNum):\n",
    "        x[yearIndex,featIndex * len(months) : (featIndex + 1)*len(months)] = tempDF[features[featIndex]].to_numpy().reshape(len(months),len(lons),len(lats))"
   ]
  },
  {
   "cell_type": "code",
   "execution_count": 457,
   "id": "ed4a37fe-d741-42e3-be5c-21eb80b3ef0e",
   "metadata": {},
   "outputs": [
    {
     "data": {
      "text/plain": [
       "370030    True\n",
       "Name: SLP, dtype: bool"
      ]
     },
     "execution_count": 457,
     "metadata": {},
     "output_type": "execute_result"
    }
   ],
   "source": [
    "# sanity check\n",
    "x[3,5,3,4] == feat.loc[(feat['year'] == years[3]) & (feat['month'] == months[0]) \n",
    "                       & (feat['lon'] == lons[3]) \n",
    "                       & (feat['lat'] == lats[4])]['SLP']\n",
    "x = x.transpose(0,3,2,1)"
   ]
  },
  {
   "cell_type": "code",
   "execution_count": 630,
   "id": "5582054f-0348-4dbf-a6f2-4741b3983b99",
   "metadata": {},
   "outputs": [
    {
     "data": {
      "image/png": "[encoded data removed]",
      "text/plain": [
       "<Figure size 2160x720 with 2 Axes>"
      ]
     },
     "metadata": {
      "needs_background": "light"
     },
     "output_type": "display_data"
    }
   ],
   "source": [
    "plt.figure(figsize=(30,10))\n",
    "plt.imshow(x[0,:,:,5], cmap='cool')\n",
    "plt.colorbar()\n",
    "plt.show()"
   ]
  },
  {
   "cell_type": "code",
   "execution_count": null,
   "id": "a6aab100-0fb8-4037-8e4d-5ad17b716bdd",
   "metadata": {},
   "outputs": [],
   "source": []
  },
  {
   "cell_type": "code",
   "execution_count": 631,
   "id": "0987f2f6-87e3-4f57-9b5e-b9ab975bdbad",
   "metadata": {},
   "outputs": [],
   "source": [
    "def AlternateModel(months, lats,lons , featureNum, spatialKernelShape = (20,20),\n",
    "            S1 = 4, norm_rate = 0.25,):\n",
    "    temporalKernelShape = (1,1)\n",
    "    input1   = Input(shape = (lats,lons, months * featureNum))\n",
    "    \n",
    "    ##################################################################\n",
    "    block1 = AveragePooling2D((4, 4), padding='valid',strides = (1,1))(input1)\n",
    "    # Spatial Informaiton Extraction\n",
    "    block1 = DepthwiseConv2D(depth_multiplier = 1,\n",
    "                             kernel_size = spatialKernelShape, \n",
    "                             padding = 'same',\n",
    "                             strides = (1,1),\n",
    "                            )(block1)\n",
    "    block1 = AveragePooling2D((4, 4),padding='same',strides = (1,1))(block1)\n",
    "    # Temporal Information Extraction\n",
    "    block1 = Conv2D(filters = 10,groups = 1,\n",
    "                    kernel_size = temporalKernelShape,\n",
    "                    padding = 'same',strides = (1,1),\n",
    "                   )(block1)\n",
    "    block1 = Activation('leaky_relu')(block1)\n",
    "    block1 = AveragePooling2D((4, 4),padding='valid',strides = (4,4))(block1)\n",
    "        \n",
    "    block2 = SeparableConv2D(S1, \n",
    "                             (2,2),\n",
    "                             use_bias = False, \n",
    "                             padding = 'same',\n",
    "                            )(block1)\n",
    "    block2 = Activation('leaky_relu')(block2)\n",
    "    block2 = MaxPooling2D((4,8),padding = 'valid',strides = (4,8))(block2)\n",
    "    flatten = Flatten()(block2)\n",
    "    \n",
    "    dense1 = Dense(10,activation = 'leaky_relu')(flatten)\n",
    "    dense2 = Dense(5, activation = 'leaky_relu',use_bias = True)(dense1)\n",
    "    dense3 = Dense(1, activation = 'linear',use_bias = True)(dense2)\n",
    "    \n",
    "    return Model(inputs=input1, outputs=dense3)\n",
    "\n",
    "def TestModel(months, lats,lons , featureNum, spatialKernelShape = (6,6),\n",
    "            S1 = 4, norm_rate = 0.25,):\n",
    "    temporalKernelShape = (1,1)\n",
    "    input1   = Input(shape = (lats,lons, months * featureNum))\n",
    "    \n",
    "    ##################################################################\n",
    "    block1 = AveragePooling2D((4, 4), padding='valid',strides = (1,1))(input1)\n",
    "    # Spatial Informaiton Extraction\n",
    "    block1 = DepthwiseConv2D(depth_multiplier = 1,\n",
    "                             kernel_size = spatialKernelShape, \n",
    "                             padding = 'same',\n",
    "                             strides = (1,1),\n",
    "                            )(block1)\n",
    "    block1 = AveragePooling2D((4, 4),padding='same',strides = (1,1))(block1)\n",
    "    # Temporal Information Extraction\n",
    "    block1 = Conv2D(filters = 1,groups = 1,\n",
    "                    kernel_size = temporalKernelShape,\n",
    "                    padding = 'same',strides = (1,1),\n",
    "                   )(block1)\n",
    "    block1 = Activation('leaky_relu')(block1)\n",
    "    block1 = AveragePooling2D((4, 4),padding='valid',strides = (4,4))(block1)\n",
    "        \n",
    "    block2 = SeparableConv2D(S1, \n",
    "                             (2,2),\n",
    "                             use_bias = False, \n",
    "                             padding = 'same',\n",
    "                            )(block1)\n",
    "    block2 = Activation('leaky_relu')(block2)\n",
    "    block2 = MaxPooling2D((4,8),padding = 'valid',strides = (4,8))(block2)\n",
    "    flatten = Flatten()(block2)\n",
    "    \n",
    "    dense1 = Dense(10,activation = 'leaky_relu')(flatten)\n",
    "    dense2 = Dense(5, activation = 'leaky_relu',use_bias = True)(dense1)\n",
    "    dense3 = Dense(1, activation = 'linear',use_bias = True)(dense2)\n",
    "    \n",
    "    return Model(inputs=input1, outputs=dense3)\n"
   ]
  },
  {
   "cell_type": "code",
   "execution_count": 625,
   "id": "98ccee66-2ae1-4009-9ab3-86c2df1597a3",
   "metadata": {},
   "outputs": [],
   "source": [
    "model = AlternateModel(len(months),len(lats),len(lons),featuresNum)\n",
    "\n",
    "optimizer = tf.keras.optimizers.Adam(lr=0.001)\n",
    "model.compile(optimizer=optimizer,loss='mse',metrics=[tf.keras.metrics.MeanSquaredError()])\n",
    "#y = (TCcount['COUNT']-TCcount['COUNT'].min())/(TCcount['COUNT'].max()-TCcount['COUNT'].min())\n",
    "y = TCcount['COUNT']\n",
    "X_train, X_test, y_train, y_test = train_test_split(x, y, test_size=0.10)\n",
    "es = EarlyStopping(monitor='mean_squared_error', verbose=1, patience = 20,min_delta = 0.001)\n",
    "hist = model.fit(X_train, y_train,batch_size=10,epochs = 5, verbose=1,validation_data= (X_test,y_test),callbacks = [es])"
   ]
  },
  {
   "cell_type": "code",
   "execution_count": 626,
   "id": "61acf166-ecf6-4655-a180-56531d301d0c",
   "metadata": {},
   "outputs": [
    {
     "name": "stdout",
     "output_type": "stream",
     "text": [
      "Model: \"model_58\"\n",
      "_________________________________________________________________\n",
      " Layer (type)                Output Shape              Param #   \n",
      "=================================================================\n",
      " input_73 (InputLayer)       [(None, 61, 129, 20)]     0         \n",
      "                                                                 \n",
      " average_pooling2d_159 (Aver  (None, 58, 126, 20)      0         \n",
      " agePooling2D)                                                   \n",
      "                                                                 \n",
      " depthwise_conv2d_60 (Depthw  (None, 58, 126, 20)      8020      \n",
      " iseConv2D)                                                      \n",
      "                                                                 \n",
      " average_pooling2d_160 (Aver  (None, 58, 126, 20)      0         \n",
      " agePooling2D)                                                   \n",
      "                                                                 \n",
      " conv2d_70 (Conv2D)          (None, 58, 126, 10)       210       \n",
      "                                                                 \n",
      " activation_113 (Activation)  (None, 58, 126, 10)      0         \n",
      "                                                                 \n",
      " average_pooling2d_161 (Aver  (None, 14, 31, 10)       0         \n",
      " agePooling2D)                                                   \n",
      "                                                                 \n",
      " separable_conv2d_60 (Separa  (None, 14, 31, 4)        80        \n",
      " bleConv2D)                                                      \n",
      "                                                                 \n",
      " activation_114 (Activation)  (None, 14, 31, 4)        0         \n",
      "                                                                 \n",
      " max_pooling2d_48 (MaxPoolin  (None, 3, 3, 4)          0         \n",
      " g2D)                                                            \n",
      "                                                                 \n",
      " flatten_59 (Flatten)        (None, 36)                0         \n",
      "                                                                 \n",
      " dense_138 (Dense)           (None, 10)                370       \n",
      "                                                                 \n",
      " dense_139 (Dense)           (None, 5)                 55        \n",
      "                                                                 \n",
      " dense_140 (Dense)           (None, 1)                 6         \n",
      "                                                                 \n",
      "=================================================================\n",
      "Total params: 8,741\n",
      "Trainable params: 8,741\n",
      "Non-trainable params: 0\n",
      "_________________________________________________________________\n"
     ]
    }
   ],
   "source": [
    "model.summary()"
   ]
  },
  {
   "cell_type": "code",
   "execution_count": 627,
   "id": "c19afec1-ce92-46c3-aa71-20d1dc4b9dd7",
   "metadata": {},
   "outputs": [
    {
     "name": "stdout",
     "output_type": "stream",
     "text": [
      "Epoch 1/5\n"
     ]
    },
    {
     "name": "stderr",
     "output_type": "stream",
     "text": [
      "/Users/jackzhang/opt/anaconda3/lib/python3.8/site-packages/keras/optimizer_v2/adam.py:105: UserWarning: The `lr` argument is deprecated, use `learning_rate` instead.\n",
      "  super(Adam, self).__init__(name, **kwargs)\n"
     ]
    },
    {
     "name": "stdout",
     "output_type": "stream",
     "text": [
      "4/4 [==============================] - 1s 254ms/step - loss: 255.3829 - mean_squared_error: 255.3829 - val_loss: 165.0163 - val_mean_squared_error: 165.0163\n",
      "Epoch 2/5\n",
      "4/4 [==============================] - 1s 202ms/step - loss: 74.5422 - mean_squared_error: 74.5422 - val_loss: 86.1545 - val_mean_squared_error: 86.1545\n",
      "Epoch 3/5\n",
      "4/4 [==============================] - 1s 219ms/step - loss: 74.2844 - mean_squared_error: 74.2844 - val_loss: 51.9988 - val_mean_squared_error: 51.9988\n",
      "Epoch 4/5\n",
      "4/4 [==============================] - 1s 224ms/step - loss: 63.0759 - mean_squared_error: 63.0759 - val_loss: 43.8466 - val_mean_squared_error: 43.8466\n",
      "Epoch 5/5\n",
      "4/4 [==============================] - 1s 205ms/step - loss: 34.4005 - mean_squared_error: 34.4005 - val_loss: 16.4127 - val_mean_squared_error: 16.4127\n"
     ]
    },
    {
     "data": {
      "text/plain": [
       "[<matplotlib.lines.Line2D at 0x7f7fedc08b50>]"
      ]
     },
     "execution_count": 627,
     "metadata": {},
     "output_type": "execute_result"
    },
    {
     "data": {
      "image/png": "[encoded data removed]",
      "text/plain": [
       "<Figure size 432x288 with 1 Axes>"
      ]
     },
     "metadata": {
      "needs_background": "light"
     },
     "output_type": "display_data"
    }
   ],
   "source": [
    "from sklearn.preprocessing import StandardScaler\n",
    "\n",
    "plt.plot(model.predict(X_train))\n",
    "plt.plot(np.arange(1,37,1),y_train)"
   ]
  },
  {
   "cell_type": "code",
   "execution_count": 620,
   "id": "2ae771cf-ba77-4a9b-8622-34f9b29a9ac5",
   "metadata": {},
   "outputs": [
    {
     "data": {
      "text/plain": [
       "[<matplotlib.lines.Line2D at 0x7f7fc31bbc40>]"
      ]
     },
     "execution_count": 620,
     "metadata": {},
     "output_type": "execute_result"
    },
    {
     "data": {
      "image/png": "[encoded data removed]",
      "text/plain": [
       "<Figure size 432x288 with 1 Axes>"
      ]
     },
     "metadata": {
      "needs_background": "light"
     },
     "output_type": "display_data"
    }
   ],
   "source": [
    "plt.plot(np.arange(1,6,1),model.predict(X_test))\n",
    "plt.plot(np.arange(1,6,1),y_test)"
   ]
  },
  {
   "cell_type": "code",
   "execution_count": 621,
   "id": "c2cc0f04-5b5b-4cf0-ab1e-d25c5f79679b",
   "metadata": {},
   "outputs": [
    {
     "data": {
      "text/plain": [
       "(5, 61, 129, 20)"
      ]
     },
     "execution_count": 621,
     "metadata": {},
     "output_type": "execute_result"
    }
   ],
   "source": [
    "X_test.shape"
   ]
  },
  {
   "cell_type": "code",
   "execution_count": 622,
   "id": "9db80112-b78b-4777-bdf3-511be6822905",
   "metadata": {},
   "outputs": [
    {
     "data": {
      "image/png": "[encoded data removed]",
      "text/plain": [
       "<Figure size 432x288 with 1 Axes>"
      ]
     },
     "metadata": {
      "needs_background": "light"
     },
     "output_type": "display_data"
    }
   ],
   "source": [
    "plt.plot(np.array(hist.history['mean_squared_error'])[-35:])\n",
    "plt.plot(np.array(hist.history['val_mean_squared_error'])[-35:])\n",
    "plt.title('model accuracy')\n",
    "plt.ylabel('accuracy')\n",
    "plt.xlabel('epoch')\n",
    "plt.legend(['train', 'val'], loc='upper left')\n",
    "plt.show()"
   ]
  },
  {
   "cell_type": "code",
   "execution_count": 320,
   "id": "2d049dca-f15b-4b68-9c0a-0677eb1df93f",
   "metadata": {},
   "outputs": [
    {
     "data": {
      "text/plain": [
       "array([78.80335999, 74.04756927, 80.42557526, 73.61119843, 77.44730377])"
      ]
     },
     "execution_count": 320,
     "metadata": {},
     "output_type": "execute_result"
    }
   ],
   "source": [
    "np.array(hist.history['val_mean_squared_error'])[-5:]"
   ]
  },
  {
   "cell_type": "code",
   "execution_count": 565,
   "id": "1ec2699e-07f4-436b-a4bd-df3aa54248ff",
   "metadata": {},
   "outputs": [
    {
     "data": {
      "text/plain": [
       "[array([[[[ 0.661319  ]],\n",
       " \n",
       "         [[-0.35793173]]],\n",
       " \n",
       " \n",
       "        [[[-0.21272582]],\n",
       " \n",
       "         [[ 0.5123921 ]]]], dtype=float32),\n",
       " array([[[[ 0.80362797, -0.579483  ,  0.9202604 , -0.13999724]]]],\n",
       "       dtype=float32)]"
      ]
     },
     "execution_count": 565,
     "metadata": {},
     "output_type": "execute_result"
    }
   ],
   "source": [
    "model.layers[7].get_weights()"
   ]
  },
  {
   "cell_type": "code",
   "execution_count": 561,
   "id": "ef662ace-0400-4e13-ad18-8bd9c354e2b9",
   "metadata": {},
   "outputs": [
    {
     "data": {
      "text/plain": [
       "[<keras.engine.input_layer.InputLayer at 0x7f805a29b040>,\n",
       " <keras.layers.pooling.AveragePooling2D at 0x7f805a29bfa0>,\n",
       " <keras.layers.convolutional.DepthwiseConv2D at 0x7f7fd5e9cc10>,\n",
       " <keras.layers.pooling.AveragePooling2D at 0x7f7fe440be20>,\n",
       " <keras.layers.convolutional.Conv2D at 0x7f7fe1c367c0>,\n",
       " <keras.layers.core.activation.Activation at 0x7f7fd3e34a60>,\n",
       " <keras.layers.pooling.AveragePooling2D at 0x7f7fd3beb610>,\n",
       " <keras.layers.convolutional.SeparableConv2D at 0x7f7fd5e9c250>,\n",
       " <keras.layers.core.activation.Activation at 0x7f7fd5e9ce50>,\n",
       " <keras.layers.pooling.MaxPooling2D at 0x7f7fdf0d7b80>,\n",
       " <keras.layers.core.flatten.Flatten at 0x7f800407e5e0>,\n",
       " <keras.layers.core.dense.Dense at 0x7f7fe41b2880>,\n",
       " <keras.layers.core.dense.Dense at 0x7f7fe07bea30>,\n",
       " <keras.layers.core.dense.Dense at 0x7f7fe7b70040>]"
      ]
     },
     "execution_count": 561,
     "metadata": {},
     "output_type": "execute_result"
    }
   ],
   "source": [
    "model.layers"
   ]
  },
  {
   "cell_type": "code",
   "execution_count": 632,
   "id": "b8f40846-1510-482d-89f8-6262b661a534",
   "metadata": {},
   "outputs": [
    {
     "data": {
      "text/html": [
       "<div>\n",
       "<style scoped>\n",
       "    .dataframe tbody tr th:only-of-type {\n",
       "        vertical-align: middle;\n",
       "    }\n",
       "\n",
       "    .dataframe tbody tr th {\n",
       "        vertical-align: top;\n",
       "    }\n",
       "\n",
       "    .dataframe thead th {\n",
       "        text-align: right;\n",
       "    }\n",
       "</style>\n",
       "<table border=\"1\" class=\"dataframe\">\n",
       "  <thead>\n",
       "    <tr style=\"text-align: right;\">\n",
       "      <th></th>\n",
       "      <th>time</th>\n",
       "      <th>lon</th>\n",
       "      <th>lat</th>\n",
       "      <th>OMEGA500</th>\n",
       "      <th>SLP</th>\n",
       "      <th>U500</th>\n",
       "      <th>SSSMASS</th>\n",
       "      <th>month</th>\n",
       "      <th>year</th>\n",
       "    </tr>\n",
       "  </thead>\n",
       "  <tbody>\n",
       "    <tr>\n",
       "      <th>86559</th>\n",
       "      <td>1981-01-01</td>\n",
       "      <td>-100.0</td>\n",
       "      <td>10.0</td>\n",
       "      <td>0.682125</td>\n",
       "      <td>0.398674</td>\n",
       "      <td>0.235564</td>\n",
       "      <td>0.150067</td>\n",
       "      <td>1</td>\n",
       "      <td>1981</td>\n",
       "    </tr>\n",
       "    <tr>\n",
       "      <th>86560</th>\n",
       "      <td>1981-01-01</td>\n",
       "      <td>-100.0</td>\n",
       "      <td>10.5</td>\n",
       "      <td>0.681483</td>\n",
       "      <td>0.402729</td>\n",
       "      <td>0.239629</td>\n",
       "      <td>0.156719</td>\n",
       "      <td>1</td>\n",
       "      <td>1981</td>\n",
       "    </tr>\n",
       "    <tr>\n",
       "      <th>86561</th>\n",
       "      <td>1981-01-01</td>\n",
       "      <td>-100.0</td>\n",
       "      <td>11.0</td>\n",
       "      <td>0.680792</td>\n",
       "      <td>0.406284</td>\n",
       "      <td>0.244860</td>\n",
       "      <td>0.163706</td>\n",
       "      <td>1</td>\n",
       "      <td>1981</td>\n",
       "    </tr>\n",
       "    <tr>\n",
       "      <th>86562</th>\n",
       "      <td>1981-01-01</td>\n",
       "      <td>-100.0</td>\n",
       "      <td>11.5</td>\n",
       "      <td>0.680263</td>\n",
       "      <td>0.409389</td>\n",
       "      <td>0.252569</td>\n",
       "      <td>0.169086</td>\n",
       "      <td>1</td>\n",
       "      <td>1981</td>\n",
       "    </tr>\n",
       "    <tr>\n",
       "      <th>86563</th>\n",
       "      <td>1981-01-01</td>\n",
       "      <td>-100.0</td>\n",
       "      <td>12.0</td>\n",
       "      <td>0.680129</td>\n",
       "      <td>0.412352</td>\n",
       "      <td>0.262794</td>\n",
       "      <td>0.174016</td>\n",
       "      <td>1</td>\n",
       "      <td>1981</td>\n",
       "    </tr>\n",
       "    <tr>\n",
       "      <th>...</th>\n",
       "      <td>...</td>\n",
       "      <td>...</td>\n",
       "      <td>...</td>\n",
       "      <td>...</td>\n",
       "      <td>...</td>\n",
       "      <td>...</td>\n",
       "      <td>...</td>\n",
       "      <td>...</td>\n",
       "      <td>...</td>\n",
       "    </tr>\n",
       "    <tr>\n",
       "      <th>3903019</th>\n",
       "      <td>2021-05-01</td>\n",
       "      <td>-20.0</td>\n",
       "      <td>38.0</td>\n",
       "      <td>0.704109</td>\n",
       "      <td>0.694664</td>\n",
       "      <td>0.442277</td>\n",
       "      <td>0.054698</td>\n",
       "      <td>5</td>\n",
       "      <td>2021</td>\n",
       "    </tr>\n",
       "    <tr>\n",
       "      <th>3903020</th>\n",
       "      <td>2021-05-01</td>\n",
       "      <td>-20.0</td>\n",
       "      <td>38.5</td>\n",
       "      <td>0.700855</td>\n",
       "      <td>0.689762</td>\n",
       "      <td>0.454413</td>\n",
       "      <td>0.057722</td>\n",
       "      <td>5</td>\n",
       "      <td>2021</td>\n",
       "    </tr>\n",
       "    <tr>\n",
       "      <th>3903021</th>\n",
       "      <td>2021-05-01</td>\n",
       "      <td>-20.0</td>\n",
       "      <td>39.0</td>\n",
       "      <td>0.697471</td>\n",
       "      <td>0.683551</td>\n",
       "      <td>0.466451</td>\n",
       "      <td>0.061900</td>\n",
       "      <td>5</td>\n",
       "      <td>2021</td>\n",
       "    </tr>\n",
       "    <tr>\n",
       "      <th>3903022</th>\n",
       "      <td>2021-05-01</td>\n",
       "      <td>-20.0</td>\n",
       "      <td>39.5</td>\n",
       "      <td>0.693790</td>\n",
       "      <td>0.676209</td>\n",
       "      <td>0.478088</td>\n",
       "      <td>0.066258</td>\n",
       "      <td>5</td>\n",
       "      <td>2021</td>\n",
       "    </tr>\n",
       "    <tr>\n",
       "      <th>3903023</th>\n",
       "      <td>2021-05-01</td>\n",
       "      <td>-20.0</td>\n",
       "      <td>40.0</td>\n",
       "      <td>0.691028</td>\n",
       "      <td>0.668007</td>\n",
       "      <td>0.489927</td>\n",
       "      <td>0.071350</td>\n",
       "      <td>5</td>\n",
       "      <td>2021</td>\n",
       "    </tr>\n",
       "  </tbody>\n",
       "</table>\n",
       "<p>1613145 rows × 9 columns</p>\n",
       "</div>"
      ],
      "text/plain": [
       "              time    lon   lat  OMEGA500       SLP      U500   SSSMASS  \\\n",
       "86559   1981-01-01 -100.0  10.0  0.682125  0.398674  0.235564  0.150067   \n",
       "86560   1981-01-01 -100.0  10.5  0.681483  0.402729  0.239629  0.156719   \n",
       "86561   1981-01-01 -100.0  11.0  0.680792  0.406284  0.244860  0.163706   \n",
       "86562   1981-01-01 -100.0  11.5  0.680263  0.409389  0.252569  0.169086   \n",
       "86563   1981-01-01 -100.0  12.0  0.680129  0.412352  0.262794  0.174016   \n",
       "...            ...    ...   ...       ...       ...       ...       ...   \n",
       "3903019 2021-05-01  -20.0  38.0  0.704109  0.694664  0.442277  0.054698   \n",
       "3903020 2021-05-01  -20.0  38.5  0.700855  0.689762  0.454413  0.057722   \n",
       "3903021 2021-05-01  -20.0  39.0  0.697471  0.683551  0.466451  0.061900   \n",
       "3903022 2021-05-01  -20.0  39.5  0.693790  0.676209  0.478088  0.066258   \n",
       "3903023 2021-05-01  -20.0  40.0  0.691028  0.668007  0.489927  0.071350   \n",
       "\n",
       "         month  year  \n",
       "86559        1  1981  \n",
       "86560        1  1981  \n",
       "86561        1  1981  \n",
       "86562        1  1981  \n",
       "86563        1  1981  \n",
       "...        ...   ...  \n",
       "3903019      5  2021  \n",
       "3903020      5  2021  \n",
       "3903021      5  2021  \n",
       "3903022      5  2021  \n",
       "3903023      5  2021  \n",
       "\n",
       "[1613145 rows x 9 columns]"
      ]
     },
     "execution_count": 632,
     "metadata": {},
     "output_type": "execute_result"
    }
   ],
   "source": [
    "feat"
   ]
  },
  {
   "cell_type": "code",
   "execution_count": null,
   "id": "26f4e850-79bd-48f7-8457-035be4491b39",
   "metadata": {},
   "outputs": [],
   "source": []
  }
 ],
 "metadata": {
  "kernelspec": {
   "display_name": "Python 3",
   "language": "python",
   "name": "python3"
  },
  "language_info": {
   "codemirror_mode": {
    "name": "ipython",
    "version": 3
   },
   "file_extension": ".py",
   "mimetype": "text/x-python",
   "name": "python",
   "nbconvert_exporter": "python",
   "pygments_lexer": "ipython3",
   "version": "3.8.8"
  }
 },
 "nbformat": 4,
 "nbformat_minor": 5
}
