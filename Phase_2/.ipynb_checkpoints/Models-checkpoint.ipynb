{
 "cells": [
  {
   "cell_type": "code",
   "execution_count": 423,
   "id": "531c8fdb-5ae2-438b-bef0-07646a1cf508",
   "metadata": {},
   "outputs": [],
   "source": [
    "from tensorflow.keras.models import Model\n",
    "from tensorflow.keras.layers import Dense, Activation, Permute, Dropout\n",
    "from tensorflow.keras.layers import Conv2D, MaxPooling2D, AveragePooling2D, Conv3D\n",
    "from tensorflow.keras.layers import SeparableConv2D, DepthwiseConv2D\n",
    "from tensorflow.keras.layers import BatchNormalization\n",
    "from tensorflow.keras.layers import SpatialDropout2D\n",
    "from tensorflow.keras.regularizers import l1_l2\n",
    "from tensorflow.keras.layers import Input, Flatten\n",
    "from tensorflow.keras.constraints import max_norm\n",
    "from tensorflow.keras import backend as K\n",
    "import tensorflow as tf\n",
    "import pandas as pd\n",
    "import numpy as np\n",
    "from datetime import datetime\n",
    "from pandas import DataFrame as df"
   ]
  },
  {
   "cell_type": "code",
   "execution_count": 473,
   "id": "f4bc8e17-19b3-413a-83df-9c686cdfc801",
   "metadata": {},
   "outputs": [],
   "source": [
    "\n",
    "def OneFeatCNNModel(months, latNum, lonNum,\n",
    "             dropoutRate = 0.5, spatialKernelShape = (5,5), \n",
    "             C1 = 4, S1 = 4, norm_rate = 0.25, dropoutType = 'Dropout'):\n",
    "    dropoutType = Dropout\n",
    "    input1   = Input(shape = (latNum, lonNum, months))\n",
    "\n",
    "    ##################################################################\n",
    "    block1 = MaxPooling2D((4, 4), padding='valid',strides = (4,4))(block1)\n",
    "    block1 = Conv2D(filters = 4, kernel_size = spatialKernelShape, padding = 'same',strides = (1,1),\n",
    "                                   input_shape = (latNum, lonNum, months),\n",
    "                                   use_bias = False)(input1)\n",
    "    block1 = Conv2D(filters = C1, kernel_size = (1,1))(block1)\n",
    "    block1 = Activation('p')(block1)\n",
    "    block1 = AveragePooling2D((4, 4),padding='same',strides = (4,4))(block1)\n",
    "        \n",
    "    block2 = SeparableConv2D(S1, (4,4),\n",
    "                                   use_bias = True, padding = 'valid')(block1)\n",
    "    block2       = Activation('leaky_relu')(block2)\n",
    "    flatten = Flatten()(block2)\n",
    "    \n",
    "    dense1 = Dense(10,activation = 'leaky_relu')(flatten)\n",
    "    dense2 = Dense(1, activation = 'linear',use_bias = True)(dense1)\n",
    "    \n",
    "    return Model(inputs=input1, outputs=dense2)"
   ]
  },
  {
   "cell_type": "code",
   "execution_count": null,
   "id": "6e0f495e-b609-4b67-80c6-e46e0c9c3096",
   "metadata": {},
   "outputs": [],
   "source": []
  },
  {
   "cell_type": "code",
   "execution_count": null,
   "id": "de9de93c-8b99-440f-8948-e95628c01a79",
   "metadata": {},
   "outputs": [],
   "source": [
    "\n",
    "def CompleteModel(months, coordination, featureNum\n",
    "             dropoutRate = 0.5, spatialKernelShape = (5,5), \n",
    "             C1 = 4, S1 = 4, norm_rate = 0.25, dropoutType = 'Dropout'):\n",
    "    dropoutType = Dropout\n",
    "    input1   = Input(shape = (latNum, lonNum, months))\n",
    "\n",
    "    ##################################################################\n",
    "    block1 = MaxPooling2D((4, 4), padding='valid',strides = (4,4))(block1)\n",
    "    block1 = Conv2D(filters = 4, kernel_size = spatialKernelShape, padding = 'same',strides = (1,1),\n",
    "                                   input_shape = (latNum, lonNum, months),\n",
    "                                   use_bias = False)(input1)\n",
    "    block1 = Conv2D(filters = C1, kernel_size = (1,1))(block1)\n",
    "    block1 = Activation('p')(block1)\n",
    "    block1 = AveragePooling2D((4, 4),padding='same',strides = (4,4))(block1)\n",
    "        \n",
    "    block2 = SeparableConv2D(S1, (4,4),\n",
    "                                   use_bias = True, padding = 'valid')(block1)\n",
    "    block2       = Activation('leaky_relu')(block2)\n",
    "    flatten = Flatten()(block2)\n",
    "    \n",
    "    dense1 = Dense(10,activation = 'leaky_relu')(flatten)\n",
    "    dense2 = Dense(1, activation = 'linear',use_bias = True)(dense1)\n",
    "    \n",
    "    return Model(inputs=input1, outputs=dense2)"
   ]
  },
  {
   "cell_type": "code",
   "execution_count": null,
   "id": "5a2f1e6c-ae85-4b21-bca3-dfacd7bd7783",
   "metadata": {},
   "outputs": [],
   "source": []
  },
  {
   "cell_type": "code",
   "execution_count": null,
   "id": "76f5b79c-14ab-4e0a-9f3c-55c8307327fd",
   "metadata": {},
   "outputs": [],
   "source": []
  },
  {
   "cell_type": "code",
   "execution_count": null,
   "id": "72b6008e-835d-471b-b4df-cf2aac679e74",
   "metadata": {},
   "outputs": [],
   "source": []
  },
  {
   "cell_type": "code",
   "execution_count": 325,
   "id": "2375239b-121c-4a4a-9ad5-58dbad0d9c1f",
   "metadata": {},
   "outputs": [],
   "source": []
  },
  {
   "cell_type": "code",
   "execution_count": null,
   "id": "f3efac3c-d08a-4878-8d11-810e3052bc4e",
   "metadata": {},
   "outputs": [],
   "source": []
  },
  {
   "cell_type": "code",
   "execution_count": null,
   "id": "1d6fca41-a1b0-4ec6-b63a-7eb07523c448",
   "metadata": {},
   "outputs": [],
   "source": []
  },
  {
   "cell_type": "code",
   "execution_count": null,
   "id": "ed81215b-6b40-428b-9ca9-1a360e21332c",
   "metadata": {},
   "outputs": [],
   "source": []
  },
  {
   "cell_type": "code",
   "execution_count": null,
   "id": "7b53a2a1-471d-42d9-8eec-b73b109d3e7c",
   "metadata": {},
   "outputs": [],
   "source": []
  },
  {
   "cell_type": "code",
   "execution_count": null,
   "id": "0f3c1c3d-6d05-4c46-a5a2-69818e0576c8",
   "metadata": {},
   "outputs": [],
   "source": []
  },
  {
   "cell_type": "code",
   "execution_count": null,
   "id": "bafe67bb-3871-41a1-b9e1-021d63a5ba94",
   "metadata": {},
   "outputs": [],
   "source": []
  },
  {
   "cell_type": "code",
   "execution_count": null,
   "id": "897f11aa-84cc-4644-843b-50b01d35e26f",
   "metadata": {},
   "outputs": [],
   "source": []
  },
  {
   "cell_type": "code",
   "execution_count": null,
   "id": "d0944536-72c8-4def-81c7-8f2495b46c28",
   "metadata": {},
   "outputs": [],
   "source": []
  },
  {
   "cell_type": "code",
   "execution_count": 456,
   "id": "129c8c6c-1f16-449e-bc39-044047d82f04",
   "metadata": {},
   "outputs": [
    {
     "data": {
      "text/plain": [
       "array([[-0.03139078,  0.17035247, -0.03692964,  0.00035737],\n",
       "       [ 0.06201032, -0.1226737 , -0.2003777 ,  0.17143507],\n",
       "       [ 0.07219496, -0.07299628, -0.02684324, -0.00163495],\n",
       "       [-0.01591414, -0.05361442, -0.11562502,  0.1623469 ],\n",
       "       [ 0.11936297,  0.08331202, -0.04969538, -0.07860682]],\n",
       "      dtype=float32)"
      ]
     },
     "execution_count": 456,
     "metadata": {},
     "output_type": "execute_result"
    }
   ],
   "source": []
  },
  {
   "cell_type": "code",
   "execution_count": 301,
   "id": "040b4bce-9d82-4576-9cc9-21b0b235704d",
   "metadata": {},
   "outputs": [
    {
     "data": {
      "text/plain": [
       "<keras.layers.convolutional.Conv2D at 0x7fee9abb6f70>"
      ]
     },
     "execution_count": 301,
     "metadata": {},
     "output_type": "execute_result"
    }
   ],
   "source": [
    "oneFeatModel.layers[3]"
   ]
  },
  {
   "cell_type": "code",
   "execution_count": 470,
   "id": "5bcf7f89-4d10-409f-9845-d28593105cef",
   "metadata": {},
   "outputs": [
    {
     "data": {
      "text/plain": [
       "4.5492468e-09"
      ]
     },
     "execution_count": 470,
     "metadata": {},
     "output_type": "execute_result"
    }
   ],
   "source": [
    "feat.loc[(feat['lat'] == 39.0) & (feat['lon'] == -100)]['SSSMASS'].max()"
   ]
  },
  {
   "cell_type": "code",
   "execution_count": null,
   "id": "cae25163-b80e-41bb-843a-89fefdd3fe24",
   "metadata": {},
   "outputs": [],
   "source": []
  },
  {
   "cell_type": "code",
   "execution_count": null,
   "id": "18865788-0f86-4792-91ca-c1a580a2be96",
   "metadata": {},
   "outputs": [],
   "source": []
  },
  {
   "cell_type": "code",
   "execution_count": null,
   "id": "cb021d48-ff1c-4276-bd7f-9194b0a58425",
   "metadata": {},
   "outputs": [],
   "source": []
  },
  {
   "cell_type": "code",
   "execution_count": null,
   "id": "a8a61ee6-bdf5-4304-9afb-349eac4d0d1d",
   "metadata": {},
   "outputs": [],
   "source": []
  }
 ],
 "metadata": {
  "kernelspec": {
   "display_name": "Python 3",
   "language": "python",
   "name": "python3"
  },
  "language_info": {
   "codemirror_mode": {
    "name": "ipython",
    "version": 3
   },
   "file_extension": ".py",
   "mimetype": "text/x-python",
   "name": "python",
   "nbconvert_exporter": "python",
   "pygments_lexer": "ipython3",
   "version": "3.8.8"
  }
 },
 "nbformat": 4,
 "nbformat_minor": 5
}
