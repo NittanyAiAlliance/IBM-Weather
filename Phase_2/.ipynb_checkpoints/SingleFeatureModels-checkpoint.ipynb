{
 "cells": [
  {
   "cell_type": "code",
   "execution_count": 41,
   "id": "08a4b2f0-314b-443f-ae5f-2d6992a634ff",
   "metadata": {},
   "outputs": [],
   "source": [
    "from tensorflow.keras.models import Model\n",
    "from tensorflow.keras.layers import Dense, Activation, Permute, Dropout\n",
    "from tensorflow.keras.layers import Conv2D, MaxPooling2D, AveragePooling2D, Conv3D\n",
    "from tensorflow.keras.layers import SeparableConv2D, DepthwiseConv2D\n",
    "from tensorflow.keras.layers import BatchNormalization\n",
    "from tensorflow.keras.layers import SpatialDropout2D\n",
    "from tensorflow.keras.regularizers import l1_l2\n",
    "from tensorflow.keras.layers import Input, Flatten\n",
    "from tensorflow.keras.constraints import max_norm\n",
    "from tensorflow.keras import backend as K\n",
    "import tensorflow as tf\n",
    "import pandas as pd\n",
    "import numpy as np\n",
    "from datetime import datetime\n",
    "from datetime import timedelta\n",
    "from pandas import DataFrame as df\n",
    "import matplotlib.pyplot as plt\n",
    "from sklearn.model_selection import train_test_split\n",
    "from keras.callbacks import EarlyStopping\n",
    "\n",
    "\n",
    "\n",
    "from tensorflow.keras.models import Model\n",
    "from tensorflow.keras.layers import Dense, Activation, Permute, Dropout\n",
    "from tensorflow.keras.layers import Conv2D, MaxPooling2D, AveragePooling2D, Conv3D\n",
    "from tensorflow.keras.layers import SeparableConv2D, DepthwiseConv2D\n",
    "from tensorflow.keras.layers import BatchNormalization\n",
    "from tensorflow.keras.layers import SpatialDropout2D\n",
    "from tensorflow.keras.regularizers import l1_l2\n",
    "from tensorflow.keras.layers import Input, Flatten\n",
    "from tensorflow.keras.constraints import max_norm\n",
    "from tensorflow.keras import backend as K\n",
    "import tensorflow as tf\n",
    "import pandas as pd\n",
    "import numpy as np\n",
    "from datetime import datetime\n",
    "from pandas import DataFrame as df\n",
    "\n",
    "\n",
    "def OneFeatCNNModel(months, latNum, lonNum,\n",
    "             dropoutRate = 0.5, spatialKernelShape = (5,5), \n",
    "             C1 = 4, S1 = 4, norm_rate = 0.25, dropoutType = 'Dropout'):\n",
    "    dropoutType = Dropout\n",
    "    input1   = Input(shape = (latNum, lonNum, months))\n",
    "\n",
    "    ##################################################################\n",
    "    block1 = MaxPooling2D((4, 4), padding='valid',strides = (4,4))(input1)\n",
    "    block1 = Conv2D(filters = 4, kernel_size = spatialKernelShape, padding = 'same',strides = (1,1),\n",
    "                                   input_shape = (latNum, lonNum, months),\n",
    "                                   use_bias = False)(input1)\n",
    "    block1 = MaxPooling2D((4, 4), padding='valid',strides = (4,4))(block1)\n",
    "    block1 = Activation('leaky_relu')(block1)\n",
    "    block1 = Conv2D(filters = C1, kernel_size = (1,1))(block1)\n",
    "    block1 = Activation('leaky_relu')(block1)\n",
    "    block1 = AveragePooling2D((4, 4),padding='same',strides = (4,4))(block1)\n",
    "        \n",
    "    block2 = SeparableConv2D(S1, (4,4),\n",
    "                                   use_bias = True, padding = 'valid')(block1)\n",
    "    block2       = Activation('leaky_relu')(block2)\n",
    "    flatten = Flatten()(block2)\n",
    "    \n",
    "    dense1 = Dense(10,activation = 'leaky_relu')(flatten)\n",
    "    dense2 = Dense(1, activation = 'linear')(dense1)\n",
    "    \n",
    "    return Model(inputs=input1, outputs=dense2)"
   ]
  },
  {
   "cell_type": "markdown",
   "id": "4aa8d275-2fd7-435e-9894-b65382448acd",
   "metadata": {},
   "source": [
    "## Load Features Datasets and Restructure"
   ]
  },
  {
   "cell_type": "code",
   "execution_count": 2,
   "id": "684ffc92-c8c6-45f8-84ce-823db57b15d3",
   "metadata": {},
   "outputs": [],
   "source": [
    "feat = pd.read_csv(\"../Data/MERRA2/Features.csv\").drop(['Unnamed: 0'],axis = 1)\n",
    "TCcount = pd.read_csv(\"../Data/TC Count/IBTrACS/IBTrACS(1980-P, 100W-20W&10N-40N).csv\")\n",
    "feat['time'] = pd.to_datetime(feat['time'])\n",
    "feat = feat.loc[(feat['time'].dt.month <= 5) & (feat['time'].dt.year > 1980) & (feat['time'].dt.year < 2022)]\n",
    "TCcount = TCcount.loc[(TCcount['SEASON'] > 1980) & (TCcount['SEASON'] < 2022)]"
   ]
  },
  {
   "cell_type": "code",
   "execution_count": 3,
   "id": "73be20a3-7ddf-429a-a3b3-ac1779c6091e",
   "metadata": {},
   "outputs": [],
   "source": [
    "### Re-structure dataset into desired format\n",
    "### Single feature manipulation\n",
    "slp = feat[['year','month','lon','lat','SLP']]\n",
    "salt = feat[['year','month','lon','lat','SSSMASS']]\n",
    "omega = feat[['year','month','lon','lat','OMEGA500']]\n",
    "wind = feat[['year','month','lon','lat','U500']]\n",
    "\n",
    "# Get latitude and longitude corrdinates\n",
    "lats = np.sort(np.unique(slp['lat']))\n",
    "lons = np.sort(np.unique(slp['lon']))\n",
    "months = np.unique(slp['month'])\n",
    "years = np.unique(slp['year'])"
   ]
  },
  {
   "cell_type": "code",
   "execution_count": 47,
   "id": "6e366c4e-c623-48cc-8ed9-01ff34c8f6d0",
   "metadata": {},
   "outputs": [
    {
     "data": {
      "text/plain": [
       "204840    True\n",
       "Name: U500, dtype: bool"
      ]
     },
     "execution_count": 47,
     "metadata": {},
     "output_type": "execute_result"
    }
   ],
   "source": [
    "# fill in the matrix\n",
    "x = wind[['U500']].to_numpy().reshape(len(years),len(months),len(lons),len(lats))\n",
    "# sanity check\n",
    "x[1,3,4,2] == feat.loc[(feat['year'] == years[1]) & (feat['month'] == months[3]) & (feat['lon'] == lons[4]) & (feat['lat'] == lats[2])]['U500']\n"
   ]
  },
  {
   "cell_type": "code",
   "execution_count": 48,
   "id": "64d4ddfd-22cb-4bc8-bacb-0f9ed72dbc65",
   "metadata": {},
   "outputs": [
    {
     "data": {
      "text/plain": [
       "585066    True\n",
       "Name: U500, dtype: bool"
      ]
     },
     "execution_count": 48,
     "metadata": {},
     "output_type": "execute_result"
    }
   ],
   "source": [
    "# Final format, years * lats * lons * months \n",
    "trans_x = np.transpose(x,(0,3,2,1))\n",
    "trans_x[5,15,45,3] == feat.loc[(feat['year'] == years[5]) & (feat['month'] == months[3]) & (feat['lat'] == lats[15]) & (feat['lon'] == lons[45])]['U500']"
   ]
  },
  {
   "cell_type": "markdown",
   "id": "46d8d97c-c6f9-4fc4-8bb4-413b509b11dd",
   "metadata": {},
   "source": [
    "### Train the model"
   ]
  },
  {
   "cell_type": "code",
   "execution_count": 49,
   "id": "bbbf65ac-567e-479a-9fae-4961644fde1b",
   "metadata": {
    "tags": []
   },
   "outputs": [
    {
     "name": "stdout",
     "output_type": "stream",
     "text": [
      "Epoch 1/25\n"
     ]
    },
    {
     "name": "stderr",
     "output_type": "stream",
     "text": [
      "/Users/jackzhang/opt/anaconda3/lib/python3.8/site-packages/keras/optimizer_v2/adam.py:105: UserWarning: The `lr` argument is deprecated, use `learning_rate` instead.\n",
      "  super(Adam, self).__init__(name, **kwargs)\n"
     ]
    },
    {
     "name": "stdout",
     "output_type": "stream",
     "text": [
      "5/5 [==============================] - 1s 44ms/step - loss: 173.1034 - mean_squared_error: 173.1034 - val_loss: 87.3555 - val_mean_squared_error: 87.3555\n",
      "Epoch 2/25\n",
      "5/5 [==============================] - 0s 23ms/step - loss: 74.6097 - mean_squared_error: 74.6097 - val_loss: 84.8409 - val_mean_squared_error: 84.8409\n",
      "Epoch 3/25\n",
      "5/5 [==============================] - 0s 22ms/step - loss: 60.8151 - mean_squared_error: 60.8151 - val_loss: 76.7600 - val_mean_squared_error: 76.7600\n",
      "Epoch 4/25\n",
      "5/5 [==============================] - 0s 23ms/step - loss: 27.4296 - mean_squared_error: 27.4296 - val_loss: 81.8946 - val_mean_squared_error: 81.8946\n",
      "Epoch 5/25\n",
      "5/5 [==============================] - 0s 18ms/step - loss: 36.7303 - mean_squared_error: 36.7303 - val_loss: 66.2803 - val_mean_squared_error: 66.2803\n",
      "Epoch 6/25\n",
      "5/5 [==============================] - 0s 19ms/step - loss: 28.3653 - mean_squared_error: 28.3653 - val_loss: 55.2077 - val_mean_squared_error: 55.2077\n",
      "Epoch 7/25\n",
      "5/5 [==============================] - 0s 19ms/step - loss: 26.6318 - mean_squared_error: 26.6318 - val_loss: 56.3031 - val_mean_squared_error: 56.3031\n",
      "Epoch 8/25\n",
      "5/5 [==============================] - 0s 17ms/step - loss: 20.0738 - mean_squared_error: 20.0738 - val_loss: 63.3536 - val_mean_squared_error: 63.3536\n",
      "Epoch 8: early stopping\n"
     ]
    }
   ],
   "source": [
    "### build a sample model\n",
    "oneFeatModel = OneFeatCNNModel(len(months),len(lats),len(lons))\n",
    "optimizer = tf.keras.optimizers.Adam(lr=0.01)\n",
    "oneFeatModel.compile(optimizer=optimizer,loss='mse',metrics=[tf.keras.metrics.MeanSquaredError()])\n",
    "X_train, X_test, y_train, y_test = train_test_split(trans_x, TCcount['COUNT'], test_size=0.10, random_state=42)\n",
    "es = EarlyStopping(monitor='val_mean_squared_error', verbose=1, patience = 2,min_delta = 0.001)\n",
    "hist = oneFeatModel.fit(X_train, y_train,batch_size=8,epochs = 25, verbose=1,validation_data= (X_test,y_test),callbacks = [es])"
   ]
  },
  {
   "cell_type": "code",
   "execution_count": 50,
   "id": "7435ba85-0181-404a-82b2-9f3a1895d2c7",
   "metadata": {},
   "outputs": [
    {
     "name": "stdout",
     "output_type": "stream",
     "text": [
      "Model: \"model_10\"\n",
      "_________________________________________________________________\n",
      " Layer (type)                Output Shape              Param #   \n",
      "=================================================================\n",
      " input_11 (InputLayer)       [(None, 61, 129, 5)]      0         \n",
      "                                                                 \n",
      " conv2d_20 (Conv2D)          (None, 61, 129, 4)        500       \n",
      "                                                                 \n",
      " max_pooling2d_14 (MaxPoolin  (None, 15, 32, 4)        0         \n",
      " g2D)                                                            \n",
      "                                                                 \n",
      " activation_23 (Activation)  (None, 15, 32, 4)         0         \n",
      "                                                                 \n",
      " conv2d_21 (Conv2D)          (None, 15, 32, 4)         20        \n",
      "                                                                 \n",
      " activation_24 (Activation)  (None, 15, 32, 4)         0         \n",
      "                                                                 \n",
      " average_pooling2d_10 (Avera  (None, 4, 8, 4)          0         \n",
      " gePooling2D)                                                    \n",
      "                                                                 \n",
      " separable_conv2d_10 (Separa  (None, 1, 5, 4)          84        \n",
      " bleConv2D)                                                      \n",
      "                                                                 \n",
      " activation_25 (Activation)  (None, 1, 5, 4)           0         \n",
      "                                                                 \n",
      " flatten_10 (Flatten)        (None, 20)                0         \n",
      "                                                                 \n",
      " dense_20 (Dense)            (None, 10)                210       \n",
      "                                                                 \n",
      " dense_21 (Dense)            (None, 1)                 11        \n",
      "                                                                 \n",
      "=================================================================\n",
      "Total params: 825\n",
      "Trainable params: 825\n",
      "Non-trainable params: 0\n",
      "_________________________________________________________________\n"
     ]
    }
   ],
   "source": [
    "oneFeatModel.summary()"
   ]
  },
  {
   "cell_type": "markdown",
   "id": "232c83d2-43c4-4f24-a50c-227b4f4cb05b",
   "metadata": {},
   "source": [
    "### Predict"
   ]
  },
  {
   "cell_type": "code",
   "execution_count": 51,
   "id": "8fdd80d3-e01e-4b69-82ba-1350a1a82c8e",
   "metadata": {},
   "outputs": [
    {
     "data": {
      "image/png": "[encoded data removed]",
      "text/plain": [
       "<Figure size 432x288 with 1 Axes>"
      ]
     },
     "metadata": {
      "needs_background": "light"
     },
     "output_type": "display_data"
    }
   ],
   "source": [
    "plt.plot(np.arange(0,36),oneFeatModel.predict(X_train),label = 'prediction')\n",
    "plt.plot(np.arange(0,36),y_train,label = 'GroundTruth')\n",
    "plt.legend()\n",
    "plt.show()"
   ]
  },
  {
   "cell_type": "code",
   "execution_count": 52,
   "id": "e0e9252d-2076-45ee-b539-43fb1bf8df46",
   "metadata": {},
   "outputs": [
    {
     "data": {
      "image/png": "[encoded data removed]",
      "text/plain": [
       "<Figure size 432x288 with 1 Axes>"
      ]
     },
     "metadata": {
      "needs_background": "light"
     },
     "output_type": "display_data"
    }
   ],
   "source": [
    "plt.plot(np.arange(0,5),oneFeatModel.predict(X_test),label = 'prediction')\n",
    "plt.plot(np.arange(0,5),y_test,label = 'GroundTruth')\n",
    "plt.legend()\n",
    "plt.show()"
   ]
  },
  {
   "cell_type": "markdown",
   "id": "2c408345-1090-40a9-ba57-60ce6d72c644",
   "metadata": {},
   "source": [
    "### Layer Visualization"
   ]
  },
  {
   "cell_type": "code",
   "execution_count": 490,
   "id": "5522904d-5dcd-4c20-b2e1-fa628186941f",
   "metadata": {},
   "outputs": [
    {
     "data": {
      "text/plain": [
       "[<keras.engine.input_layer.InputLayer at 0x7fbac3b8a8b0>,\n",
       " <keras.layers.normalization.batch_normalization.BatchNormalization at 0x7fbac3b8aeb0>,\n",
       " <keras.layers.pooling.MaxPooling2D at 0x7fbabb5b21f0>,\n",
       " <keras.layers.convolutional.Conv2D at 0x7fba33bc07f0>,\n",
       " <keras.layers.normalization.batch_normalization.BatchNormalization at 0x7fbaa34d8c10>,\n",
       " <keras.layers.convolutional.Conv2D at 0x7fbac2a7e910>,\n",
       " <keras.layers.normalization.batch_normalization.BatchNormalization at 0x7fbab9db7880>,\n",
       " <keras.layers.core.activation.Activation at 0x7fbab95f34c0>,\n",
       " <keras.layers.pooling.AveragePooling2D at 0x7fbab95f3100>,\n",
       " <keras.layers.convolutional.SeparableConv2D at 0x7fbab95637f0>,\n",
       " <keras.layers.normalization.batch_normalization.BatchNormalization at 0x7fbab95f3d90>,\n",
       " <keras.layers.core.activation.Activation at 0x7fbab95ebfa0>,\n",
       " <keras.layers.core.flatten.Flatten at 0x7fbac2f7e5b0>,\n",
       " <keras.layers.core.dense.Dense at 0x7fbabb5a6b80>,\n",
       " <keras.layers.core.dense.Dense at 0x7fbab71943d0>]"
      ]
     },
     "execution_count": 490,
     "metadata": {},
     "output_type": "execute_result"
    }
   ],
   "source": [
    "oneFeatModel.layers"
   ]
  },
  {
   "cell_type": "code",
   "execution_count": null,
   "id": "e1e48cc8-fd25-42b7-babc-94761cf55301",
   "metadata": {},
   "outputs": [],
   "source": []
  },
  {
   "cell_type": "code",
   "execution_count": null,
   "id": "8bc13614-8055-473a-8ee9-b94e190f9c9d",
   "metadata": {},
   "outputs": [],
   "source": []
  },
  {
   "cell_type": "code",
   "execution_count": null,
   "id": "cf1dace5-7987-4c90-843f-a19a4381f129",
   "metadata": {},
   "outputs": [],
   "source": []
  },
  {
   "cell_type": "code",
   "execution_count": null,
   "id": "a1254ee7-2b51-41b3-9b58-74207206113e",
   "metadata": {},
   "outputs": [],
   "source": []
  },
  {
   "cell_type": "markdown",
   "id": "f0e9ea2e-0472-4ec4-99ad-c4508730f8c7",
   "metadata": {},
   "source": [
    "### SVR and Linear Regression Models"
   ]
  },
  {
   "cell_type": "code",
   "execution_count": 322,
   "id": "1789c876-5632-4d45-8e71-aece5fb3178e",
   "metadata": {},
   "outputs": [],
   "source": [
    "from sklearn.svm import SVR\n",
    "from sklearn.pipeline import make_pipeline\n",
    "from sklearn.preprocessing import StandardScaler"
   ]
  },
  {
   "cell_type": "code",
   "execution_count": 323,
   "id": "c66e0a6b-cfcc-41c1-b57f-18844eb578dd",
   "metadata": {},
   "outputs": [],
   "source": [
    "# Read Nino3.4, QBO, SOI\n",
    "nino = pd.read_csv(\"../Data/Indexs/Nino3.4.txt\", sep=\" \",names = [\" \",\"Year in Decimal\",\"Nino index\",\"1 \"]).dropna(axis = 1, how = 'all').dropna(axis = 0, how = 'any')\n",
    "soi = pd.read_csv(\"../Data/Indexs/SOI.txt\", sep=\" \",names = [\" \",\"Year in Decimal\",\"SOI index\",\"1 \"]).dropna(axis = 1, how = 'all').dropna(axis = 0, how = 'any')\n",
    "qbo = pd.read_csv(\"../Data/Indexs/QBO.txt\", sep=\" \",names = [\" \",\"Year in Decimal\",\"QBO index\",\"1 \"]).dropna(axis = 1, how = 'all').dropna(axis = 0, how = 'any')\n",
    "def convert_partial_year(number):\n",
    "    year = int(number)\n",
    "    d = timedelta(days = ((number - year) * 365)+2)\n",
    "    day_one = datetime(year, 1, 1)\n",
    "    date = d + day_one\n",
    "    return date\n",
    "nino[\"Year in dt\"] = nino[\"Year in Decimal\"].apply(convert_partial_year)\n",
    "nino[\"Year\"] = nino[\"Year in dt\"].dt.year\n",
    "nino[\"Month\"] = nino[\"Year in dt\"].dt.month\n",
    "nino = nino.loc[(nino['Year'] > 1980) & (nino['Year'] < 2022)]\n",
    "soi[\"Year in dt\"] = soi[\"Year in Decimal\"].apply(convert_partial_year)\n",
    "soi[\"Year\"] = soi[\"Year in dt\"].dt.year\n",
    "soi[\"Month\"] = soi[\"Year in dt\"].dt.month\n",
    "soi = soi.loc[(soi['Year'] > 1980) & (soi['Year'] < 2022)]\n",
    "qbo[\"Year in dt\"] = qbo[\"Year in Decimal\"].apply(convert_partial_year)\n",
    "qbo[\"Year\"] = qbo[\"Year in dt\"].dt.year\n",
    "qbo[\"Month\"] = qbo[\"Year in dt\"].dt.month\n",
    "qbo = qbo.loc[(qbo['Year'] > 1980) & (qbo['Year'] < 2022)]\n"
   ]
  },
  {
   "cell_type": "code",
   "execution_count": 324,
   "id": "64996533-9dfe-4b18-acc3-4767a1e0503b",
   "metadata": {},
   "outputs": [],
   "source": [
    "soi_X = np.array(soi.groupby('Year').mean().reset_index()['SOI index']).reshape(41,1)\n",
    "soi_y = np.array(TCcount['COUNT'][:-1]).reshape(41,1)\n",
    "nino_X = np.array(nino.groupby('Year').mean().reset_index()['Nino index']).reshape(41,1)\n",
    "nino_y = np.array(TCcount['COUNT'][:-1]).reshape(41,1)\n",
    "qbo_X = np.array(qbo.groupby('Year').mean().reset_index()['QBO index']).reshape(41,1)\n",
    "qbo_y = np.array(TCcount['COUNT'][:-1]).reshape(41,1)"
   ]
  },
  {
   "cell_type": "code",
   "execution_count": 341,
   "id": "7322a47c-4e95-475a-becd-feeed2dfac56",
   "metadata": {},
   "outputs": [],
   "source": [
    "# sc_X = StandardScaler()\n",
    "# sc_y = StandardScaler()\n",
    "# X = sc_X.fit_transform(X)\n",
    "# y = sc_y.fit_transform(y)\n",
    "indexs_df = df({'soi': soi_X[:,0], 'nino': nino_X[:,0], 'qbo': qbo_X[:,0]})"
   ]
  },
  {
   "cell_type": "code",
   "execution_count": 349,
   "id": "151809e2-5b90-4d05-a611-d003fdcbd440",
   "metadata": {},
   "outputs": [
    {
     "name": "stdout",
     "output_type": "stream",
     "text": [
      "                                 OLS Regression Results                                \n",
      "=======================================================================================\n",
      "Dep. Variable:                      y   R-squared (uncentered):                   0.924\n",
      "Model:                            OLS   Adj. R-squared (uncentered):              0.921\n",
      "Method:                 Least Squares   F-statistic:                              238.7\n",
      "Date:                Thu, 20 Oct 2022   Prob (F-statistic):                    1.32e-22\n",
      "Time:                        18:31:35   Log-Likelihood:                         -120.78\n",
      "No. Observations:                  41   AIC:                                      245.6\n",
      "Df Residuals:                      39   BIC:                                      249.0\n",
      "Df Model:                           2                                                  \n",
      "Covariance Type:            nonrobust                                                  \n",
      "==============================================================================\n",
      "                 coef    std err          t      P>|t|      [0.025      0.975]\n",
      "------------------------------------------------------------------------------\n",
      "soi            2.9227      0.738      3.960      0.000       1.430       4.416\n",
      "nino           0.5778      0.027     21.131      0.000       0.522       0.633\n",
      "==============================================================================\n",
      "Omnibus:                       18.524   Durbin-Watson:                   1.951\n",
      "Prob(Omnibus):                  0.000   Jarque-Bera (JB):               25.197\n",
      "Skew:                           1.380   Prob(JB):                     3.38e-06\n",
      "Kurtosis:                       5.671   Cond. No.                         27.1\n",
      "==============================================================================\n",
      "\n",
      "Notes:\n",
      "[1] R² is computed without centering (uncentered) since the model does not contain a constant.\n",
      "[2] Standard Errors assume that the covariance matrix of the errors is correctly specified.\n"
     ]
    }
   ],
   "source": [
    "import statsmodels.api as sm\n",
    "import sklearn\n",
    "def get_stats():\n",
    "    X = indexs_df[['soi','nino']]\n",
    "    results = sm.OLS(soi_y, X).fit()\n",
    "    print(results.summary())\n",
    "get_stats()"
   ]
  },
  {
   "cell_type": "code",
   "execution_count": 359,
   "id": "78917f95-30b6-4765-8a36-72c2d9d068b1",
   "metadata": {},
   "outputs": [
    {
     "data": {
      "text/html": [
       "<style>#sk-container-id-20 {color: black;background-color: white;}#sk-container-id-20 pre{padding: 0;}#sk-container-id-20 div.sk-toggleable {background-color: white;}#sk-container-id-20 label.sk-toggleable__label {cursor: pointer;display: block;width: 100%;margin-bottom: 0;padding: 0.3em;box-sizing: border-box;text-align: center;}#sk-container-id-20 label.sk-toggleable__label-arrow:before {content: \"▸\";float: left;margin-right: 0.25em;color: #696969;}#sk-container-id-20 label.sk-toggleable__label-arrow:hover:before {color: black;}#sk-container-id-20 div.sk-estimator:hover label.sk-toggleable__label-arrow:before {color: black;}#sk-container-id-20 div.sk-toggleable__content {max-height: 0;max-width: 0;overflow: hidden;text-align: left;background-color: #f0f8ff;}#sk-container-id-20 div.sk-toggleable__content pre {margin: 0.2em;color: black;border-radius: 0.25em;background-color: #f0f8ff;}#sk-container-id-20 input.sk-toggleable__control:checked~div.sk-toggleable__content {max-height: 200px;max-width: 100%;overflow: auto;}#sk-container-id-20 input.sk-toggleable__control:checked~label.sk-toggleable__label-arrow:before {content: \"▾\";}#sk-container-id-20 div.sk-estimator input.sk-toggleable__control:checked~label.sk-toggleable__label {background-color: #d4ebff;}#sk-container-id-20 div.sk-label input.sk-toggleable__control:checked~label.sk-toggleable__label {background-color: #d4ebff;}#sk-container-id-20 input.sk-hidden--visually {border: 0;clip: rect(1px 1px 1px 1px);clip: rect(1px, 1px, 1px, 1px);height: 1px;margin: -1px;overflow: hidden;padding: 0;position: absolute;width: 1px;}#sk-container-id-20 div.sk-estimator {font-family: monospace;background-color: #f0f8ff;border: 1px dotted black;border-radius: 0.25em;box-sizing: border-box;margin-bottom: 0.5em;}#sk-container-id-20 div.sk-estimator:hover {background-color: #d4ebff;}#sk-container-id-20 div.sk-parallel-item::after {content: \"\";width: 100%;border-bottom: 1px solid gray;flex-grow: 1;}#sk-container-id-20 div.sk-label:hover label.sk-toggleable__label {background-color: #d4ebff;}#sk-container-id-20 div.sk-serial::before {content: \"\";position: absolute;border-left: 1px solid gray;box-sizing: border-box;top: 0;bottom: 0;left: 50%;z-index: 0;}#sk-container-id-20 div.sk-serial {display: flex;flex-direction: column;align-items: center;background-color: white;padding-right: 0.2em;padding-left: 0.2em;position: relative;}#sk-container-id-20 div.sk-item {position: relative;z-index: 1;}#sk-container-id-20 div.sk-parallel {display: flex;align-items: stretch;justify-content: center;background-color: white;position: relative;}#sk-container-id-20 div.sk-item::before, #sk-container-id-20 div.sk-parallel-item::before {content: \"\";position: absolute;border-left: 1px solid gray;box-sizing: border-box;top: 0;bottom: 0;left: 50%;z-index: -1;}#sk-container-id-20 div.sk-parallel-item {display: flex;flex-direction: column;z-index: 1;position: relative;background-color: white;}#sk-container-id-20 div.sk-parallel-item:first-child::after {align-self: flex-end;width: 50%;}#sk-container-id-20 div.sk-parallel-item:last-child::after {align-self: flex-start;width: 50%;}#sk-container-id-20 div.sk-parallel-item:only-child::after {width: 0;}#sk-container-id-20 div.sk-dashed-wrapped {border: 1px dashed gray;margin: 0 0.4em 0.5em 0.4em;box-sizing: border-box;padding-bottom: 0.4em;background-color: white;}#sk-container-id-20 div.sk-label label {font-family: monospace;font-weight: bold;display: inline-block;line-height: 1.2em;}#sk-container-id-20 div.sk-label-container {text-align: center;}#sk-container-id-20 div.sk-container {/* jupyter's `normalize.less` sets `[hidden] { display: none; }` but bootstrap.min.css set `[hidden] { display: none !important; }` so we also need the `!important` here to be able to override the default hidden behavior on the sphinx rendered scikit-learn.org. See: https://github.com/scikit-learn/scikit-learn/issues/21755 */display: inline-block !important;position: relative;}#sk-container-id-20 div.sk-text-repr-fallback {display: none;}</style><div id=\"sk-container-id-20\" class=\"sk-top-container\"><div class=\"sk-text-repr-fallback\"><pre>LinearRegression()</pre><b>In a Jupyter environment, please rerun this cell to show the HTML representation or trust the notebook. <br />On GitHub, the HTML representation is unable to render, please try loading this page with nbviewer.org.</b></div><div class=\"sk-container\" hidden><div class=\"sk-item\"><div class=\"sk-estimator sk-toggleable\"><input class=\"sk-toggleable__control sk-hidden--visually\" id=\"sk-estimator-id-20\" type=\"checkbox\" checked><label for=\"sk-estimator-id-20\" class=\"sk-toggleable__label sk-toggleable__label-arrow\">LinearRegression</label><div class=\"sk-toggleable__content\"><pre>LinearRegression()</pre></div></div></div></div></div>"
      ],
      "text/plain": [
       "LinearRegression()"
      ]
     },
     "execution_count": 359,
     "metadata": {},
     "output_type": "execute_result"
    }
   ],
   "source": [
    "X = indexs_df\n",
    "linear_model = sklearn.linear_model.LinearRegression()\n",
    "linear_model.fit(X, soi_y)"
   ]
  },
  {
   "cell_type": "code",
   "execution_count": 361,
   "id": "004804d5-dd05-4704-a6b5-006b8226ce56",
   "metadata": {},
   "outputs": [
    {
     "data": {
      "image/png": "[encoded data removed]",
      "text/plain": [
       "<Figure size 432x288 with 1 Axes>"
      ]
     },
     "metadata": {
      "needs_background": "light"
     },
     "output_type": "display_data"
    }
   ],
   "source": [
    "plt.plot(nino_y, color = 'magenta')\n",
    "plt.plot(linear_model.predict(indexs_df), color = 'green')\n",
    "plt.title('NINO')\n",
    "plt.xlabel('X')\n",
    "plt.ylabel('y')\n",
    "plt.show()"
   ]
  },
  {
   "cell_type": "code",
   "execution_count": 368,
   "id": "02704852-fd15-437e-9a32-9e58ebd7556c",
   "metadata": {},
   "outputs": [
    {
     "data": {
      "text/plain": [
       "array([[ 2.23827075, -0.64197307, -0.07303718]])"
      ]
     },
     "execution_count": 368,
     "metadata": {},
     "output_type": "execute_result"
    }
   ],
   "source": [
    "linear_model.coef_"
   ]
  },
  {
   "cell_type": "markdown",
   "id": "2043efd8-691c-4673-8c2a-93b903b54160",
   "metadata": {},
   "source": [
    "#### Explore SMLR on Environmental Features"
   ]
  },
  {
   "cell_type": "code",
   "execution_count": 370,
   "id": "2e2d0f46-b36d-41f8-992a-c8c9cfb891db",
   "metadata": {},
   "outputs": [
    {
     "data": {
      "text/html": [
       "<div>\n",
       "<style scoped>\n",
       "    .dataframe tbody tr th:only-of-type {\n",
       "        vertical-align: middle;\n",
       "    }\n",
       "\n",
       "    .dataframe tbody tr th {\n",
       "        vertical-align: top;\n",
       "    }\n",
       "\n",
       "    .dataframe thead th {\n",
       "        text-align: right;\n",
       "    }\n",
       "</style>\n",
       "<table border=\"1\" class=\"dataframe\">\n",
       "  <thead>\n",
       "    <tr style=\"text-align: right;\">\n",
       "      <th></th>\n",
       "      <th>time</th>\n",
       "      <th>lon</th>\n",
       "      <th>lat</th>\n",
       "      <th>OMEGA500</th>\n",
       "      <th>SLP</th>\n",
       "      <th>U500</th>\n",
       "      <th>SSSMASS</th>\n",
       "      <th>month</th>\n",
       "      <th>year</th>\n",
       "    </tr>\n",
       "  </thead>\n",
       "  <tbody>\n",
       "    <tr>\n",
       "      <th>86559</th>\n",
       "      <td>1981-01-01</td>\n",
       "      <td>-100.0</td>\n",
       "      <td>10.0</td>\n",
       "      <td>0.021865</td>\n",
       "      <td>101288.12</td>\n",
       "      <td>0.068800</td>\n",
       "      <td>5.465323e-08</td>\n",
       "      <td>1</td>\n",
       "      <td>1981</td>\n",
       "    </tr>\n",
       "    <tr>\n",
       "      <th>86560</th>\n",
       "      <td>1981-01-01</td>\n",
       "      <td>-100.0</td>\n",
       "      <td>10.5</td>\n",
       "      <td>0.021120</td>\n",
       "      <td>101302.38</td>\n",
       "      <td>0.289666</td>\n",
       "      <td>5.707235e-08</td>\n",
       "      <td>1</td>\n",
       "      <td>1981</td>\n",
       "    </tr>\n",
       "    <tr>\n",
       "      <th>86561</th>\n",
       "      <td>1981-01-01</td>\n",
       "      <td>-100.0</td>\n",
       "      <td>11.0</td>\n",
       "      <td>0.020317</td>\n",
       "      <td>101314.88</td>\n",
       "      <td>0.573919</td>\n",
       "      <td>5.961355e-08</td>\n",
       "      <td>1</td>\n",
       "      <td>1981</td>\n",
       "    </tr>\n",
       "    <tr>\n",
       "      <th>86562</th>\n",
       "      <td>1981-01-01</td>\n",
       "      <td>-100.0</td>\n",
       "      <td>11.5</td>\n",
       "      <td>0.019704</td>\n",
       "      <td>101325.80</td>\n",
       "      <td>0.992850</td>\n",
       "      <td>6.157003e-08</td>\n",
       "      <td>1</td>\n",
       "      <td>1981</td>\n",
       "    </tr>\n",
       "    <tr>\n",
       "      <th>86563</th>\n",
       "      <td>1981-01-01</td>\n",
       "      <td>-100.0</td>\n",
       "      <td>12.0</td>\n",
       "      <td>0.019548</td>\n",
       "      <td>101336.22</td>\n",
       "      <td>1.548453</td>\n",
       "      <td>6.336287e-08</td>\n",
       "      <td>1</td>\n",
       "      <td>1981</td>\n",
       "    </tr>\n",
       "  </tbody>\n",
       "</table>\n",
       "</div>"
      ],
      "text/plain": [
       "            time    lon   lat  OMEGA500        SLP      U500       SSSMASS  \\\n",
       "86559 1981-01-01 -100.0  10.0  0.021865  101288.12  0.068800  5.465323e-08   \n",
       "86560 1981-01-01 -100.0  10.5  0.021120  101302.38  0.289666  5.707235e-08   \n",
       "86561 1981-01-01 -100.0  11.0  0.020317  101314.88  0.573919  5.961355e-08   \n",
       "86562 1981-01-01 -100.0  11.5  0.019704  101325.80  0.992850  6.157003e-08   \n",
       "86563 1981-01-01 -100.0  12.0  0.019548  101336.22  1.548453  6.336287e-08   \n",
       "\n",
       "       month  year  \n",
       "86559      1  1981  \n",
       "86560      1  1981  \n",
       "86561      1  1981  \n",
       "86562      1  1981  \n",
       "86563      1  1981  "
      ]
     },
     "execution_count": 370,
     "metadata": {},
     "output_type": "execute_result"
    }
   ],
   "source": [
    "feat.head()"
   ]
  },
  {
   "cell_type": "code",
   "execution_count": 451,
   "id": "c8a42fa9-d369-4e58-86e0-49e823565b4d",
   "metadata": {},
   "outputs": [],
   "source": [
    "feat_smlr = feat\n",
    "feat_smlr = feat_smlr[['year','OMEGA500','SLP','U500','SSSMASS']].groupby('year').mean().reset_index().drop('year',axis = 1)"
   ]
  },
  {
   "cell_type": "code",
   "execution_count": null,
   "id": "4c89de10-0044-47f3-bef0-091b10db9122",
   "metadata": {},
   "outputs": [],
   "source": []
  },
  {
   "cell_type": "code",
   "execution_count": 459,
   "id": "275b91ed-c639-4394-ae2d-89f89a78f73b",
   "metadata": {},
   "outputs": [
    {
     "name": "stdout",
     "output_type": "stream",
     "text": [
      "                                 OLS Regression Results                                \n",
      "=======================================================================================\n",
      "Dep. Variable:                      y   R-squared (uncentered):                   0.911\n",
      "Model:                            OLS   Adj. R-squared (uncentered):              0.901\n",
      "Method:                 Least Squares   F-statistic:                              94.15\n",
      "Date:                Thu, 20 Oct 2022   Prob (F-statistic):                    7.19e-19\n",
      "Time:                        18:57:23   Log-Likelihood:                         -124.25\n",
      "No. Observations:                  41   AIC:                                      256.5\n",
      "Df Residuals:                      37   BIC:                                      263.4\n",
      "Df Model:                           4                                                  \n",
      "Covariance Type:            nonrobust                                                  \n",
      "==============================================================================\n",
      "                 coef    std err          t      P>|t|      [0.025      0.975]\n",
      "------------------------------------------------------------------------------\n",
      "OMEGA500     252.3891    276.478      0.913      0.367    -307.809     812.587\n",
      "SLP           -0.0001      0.000     -0.888      0.380      -0.000       0.000\n",
      "U500           1.6876      1.158      1.457      0.154      -0.659       4.035\n",
      "SSSMASS     3.089e+08   4.03e+08      0.767      0.448   -5.07e+08    1.12e+09\n",
      "==============================================================================\n",
      "Omnibus:                        4.511   Durbin-Watson:                   1.890\n",
      "Prob(Omnibus):                  0.105   Jarque-Bera (JB):                3.266\n",
      "Skew:                           0.638   Prob(JB):                        0.195\n",
      "Kurtosis:                       3.533   Cond. No.                     4.97e+13\n",
      "==============================================================================\n",
      "\n",
      "Notes:\n",
      "[1] R² is computed without centering (uncentered) since the model does not contain a constant.\n",
      "[2] Standard Errors assume that the covariance matrix of the errors is correctly specified.\n",
      "[3] The smallest eigenvalue is 1.72e-16. This might indicate that there are\n",
      "strong multicollinearity problems or that the design matrix is singular.\n"
     ]
    }
   ],
   "source": [
    "def get_stats():\n",
    "    X = feat_smlr[['OMEGA500','SLP','U500','SSSMASS']]\n",
    "    results = sm.OLS(soi_y, X).fit()\n",
    "    print(results.summary())\n",
    "get_stats()"
   ]
  },
  {
   "cell_type": "code",
   "execution_count": 460,
   "id": "cd257ee6-443a-4f5a-ba16-8bafdaa6803e",
   "metadata": {},
   "outputs": [
    {
     "data": {
      "image/png": "[encoded data removed]",
      "text/plain": [
       "<Figure size 432x288 with 1 Axes>"
      ]
     },
     "metadata": {
      "needs_background": "light"
     },
     "output_type": "display_data"
    }
   ],
   "source": [
    "X = feat_smlr[['OMEGA500','SLP','U500','SSSMASS']]\n",
    "linear_model = sklearn.linear_model.LinearRegression()\n",
    "linear_model.fit(X, soi_y)\n",
    "plt.plot(soi_y, color = 'magenta')\n",
    "plt.plot(linear_model.predict(X), color = 'green')\n",
    "plt.xlabel('X')\n",
    "plt.ylabel('y')\n",
    "plt.show()"
   ]
  },
  {
   "cell_type": "code",
   "execution_count": 454,
   "id": "52165cde-5d3f-4884-913f-7eade3e6878b",
   "metadata": {},
   "outputs": [
    {
     "data": {
      "text/plain": [
       "array([[ 2.88512669e+02, -2.17588144e-02, -1.16505070e-01,\n",
       "         4.92918738e+08]])"
      ]
     },
     "execution_count": 454,
     "metadata": {},
     "output_type": "execute_result"
    }
   ],
   "source": [
    "linear_model.coef_"
   ]
  },
  {
   "cell_type": "code",
   "execution_count": null,
   "id": "4221cbde-4be1-4c1f-8898-c333b69c6500",
   "metadata": {},
   "outputs": [],
   "source": []
  }
 ],
 "metadata": {
  "kernelspec": {
   "display_name": "Python 3",
   "language": "python",
   "name": "python3"
  },
  "language_info": {
   "codemirror_mode": {
    "name": "ipython",
    "version": 3
   },
   "file_extension": ".py",
   "mimetype": "text/x-python",
   "name": "python",
   "nbconvert_exporter": "python",
   "pygments_lexer": "ipython3",
   "version": "3.8.8"
  }
 },
 "nbformat": 4,
 "nbformat_minor": 5
}
