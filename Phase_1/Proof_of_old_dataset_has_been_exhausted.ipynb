{
  "nbformat": 4,
  "nbformat_minor": 0,
  "metadata": {
    "colab": {
      "name": "Proof of old dataset has been exhausted.ipynb",
      "provenance": [],
      "toc_visible": true,
      "machine_shape": "hm",
      "collapsed_sections": []
    },
    "kernelspec": {
      "name": "python3",
      "display_name": "Python 3"
    },
    "language_info": {
      "name": "python"
    }
  },
  "cells": [
    {
      "cell_type": "code",
      "execution_count": 2,
      "metadata": {
        "id": "3iPrsyKy_lNX"
      },
      "outputs": [],
      "source": [
        "import pandas as pd\n",
        "import io\n",
        "import matplotlib.pyplot as plt"
      ]
    },
    {
      "cell_type": "code",
      "source": [
        "from google.colab import drive\n",
        "drive.mount('/content/drive')"
      ],
      "metadata": {
        "colab": {
          "base_uri": "https://localhost:8080/"
        },
        "id": "LTsOqoscAUDL",
        "outputId": "6c025e32-0f43-4e16-8ef6-9d4de83e7da8"
      },
      "execution_count": 3,
      "outputs": [
        {
          "output_type": "stream",
          "name": "stdout",
          "text": [
            "Mounted at /content/drive\n"
          ]
        }
      ]
    },
    {
      "cell_type": "code",
      "source": [
        "cd /content/drive/MyDrive/Colab Notebooks/IBM_DATA"
      ],
      "metadata": {
        "colab": {
          "base_uri": "https://localhost:8080/"
        },
        "id": "5698ZiBVFqZv",
        "outputId": "c5ef0cbe-e3da-4d7c-e289-2a286e2a4932"
      },
      "execution_count": 4,
      "outputs": [
        {
          "output_type": "stream",
          "name": "stdout",
          "text": [
            "/content/drive/MyDrive/Colab Notebooks/IBM_DATA\n"
          ]
        }
      ]
    },
    {
      "cell_type": "code",
      "source": [
        "df_AMM_JJASOM_mean = pd.read_table('AMM_JJASOM_mean_1950-2020.dat', sep=\"\\s+\", header=None)\n",
        "df_AMM_JJASOM_mean = df_AMM_JJASOM_mean.rename(columns={0: \"Year\", 1:\"AMM_JJASOM_mean\"}).copy()\n",
        "df_ERSSTv5_ASO_MDRRelative = pd.read_table('ERSSTv5_ASO_MDRRelative_SST_1870-2020.dat', sep=\"\\s+\", header=None)\n",
        "df_ERSSTv5_ASO_MDR = pd.read_table('ERSSTv5_ASO_MDR_SST_1870-2020.dat', sep=\"\\s+\", header=None)\n",
        "df_ERSSTv5_ASO_MDR_anomalies = pd.read_table('ERSSTv5_ASO_MDR_SST_anomalies_1870-2020.dat', sep=\"\\s+\", header=None)\n",
        "df_ERSSTv5_ASO_MDR_tropics = pd.read_table('ERSSTv5_ASO_tropics_SST_1870-2020.dat', sep=\"\\s+\", header=None)\n",
        "df_ERSSTv5_ASO_MDR_tropics_anomalies = pd.read_table('ERSSTv5_ASO_tropics_SST_anomalies_1870-2020.dat', sep=\"\\s+\", header=None)\n",
        "df_HURDAT_TCCounts = pd.read_table('HURDAT_TCCounts_1870-2020.dat', sep=\"\\s+\", header=None)\n",
        "df_NAO_DJFM_mean = pd.read_table('NAO_DJFM_mean_1870-2020.dat', sep=\"\\s+\", header=None)\n",
        "df_NAO_MJ_mean = pd.read_table('NAO_MJ_mean_1870-2020.dat', sep=\"\\s+\", header=None)\n",
        "df_Nino12_DJF = pd.read_table('Nino12_DJF_1870-2020.dat', sep=\"\\s+\", header=None)\n",
        "df_Nino34_DJF = pd.read_table('Nino34_DJF_1870-2020.dat', sep=\"\\s+\", header=None)\n",
        "df_Nino3_DJF = pd.read_table('Nino3_DJF_1870-2020.dat', sep=\"\\s+\", header=None)\n",
        "df_SahelPrecipIndex_JJAS_mean = pd.read_table('SahelPrecipIndex_JJAS_mean_1901-2017.dat', sep=\"\\s+\", header=None)\n",
        "df_SahelPrecipIndex_JJAS_mean = df_SahelPrecipIndex_JJAS_mean.rename(columns={0: \"Year\", 1:\"SahelPrecipIndex_JJAS_mean\"}).copy()\n",
        "df_VK08_TCCount = pd.read_table('VK08_TCCounts_1878-2020.dat', sep=\"\\s+\", header=None)\n",
        "df_VK08_TCCount = df_VK08_TCCount.rename(columns={0: \"Year\", 1:\"VK08_TCCount\"}).copy()\n",
        "df_hurricanefinal = pd.DataFrame()\n",
        "df_hurricanefinal['Year'] = df_HURDAT_TCCounts[0]\n",
        "df_hurricanefinal['HURRICANE_COUNT'] = df_HURDAT_TCCounts[1]\n",
        "\n",
        "df_hurricanefinal['ERSSTv5_ASO_MDRRelative'] = df_ERSSTv5_ASO_MDRRelative[0]\n",
        "df_hurricanefinal['ERSSTv5_ASO_MDR'] = df_ERSSTv5_ASO_MDR[0] \n",
        "df_hurricanefinal['ERSSTv5_ASO_MDR_anomalies'] = df_ERSSTv5_ASO_MDR_anomalies[0] \n",
        "df_hurricanefinal['ERSSTv5_ASO_MDR_tropics'] = df_ERSSTv5_ASO_MDR_tropics[0] \n",
        "df_hurricanefinal['ERSSTv5_ASO_MDR_tropics_anomalies'] = df_ERSSTv5_ASO_MDR_tropics_anomalies[0] \n",
        "df_hurricanefinal['ERSSTv5_ASO_MDR'] = df_ERSSTv5_ASO_MDR[0] \n",
        "\n",
        "df_hurricanefinal['NAO_DJFM_mean'] = df_NAO_DJFM_mean[1]\n",
        "df_hurricanefinal['NAO_MJ_mean'] = df_NAO_MJ_mean[1] \n",
        "\n",
        "df_hurricanefinal['Nino12_DJF'] = df_Nino12_DJF[1]\n",
        "df_hurricanefinal['Nino34_DJF'] = df_Nino34_DJF[1] \n",
        "df_hurricanefinal['Nino3_DJF'] = df_Nino3_DJF[1]\n",
        "\n",
        "df_hurricanefinal = pd.merge(df_hurricanefinal, df_AMM_JJASOM_mean,how = \"left\", on=['Year'])\n",
        "df_hurricanefinal = pd.merge(df_hurricanefinal, df_VK08_TCCount,how = \"left\", on=['Year'])\n",
        "df_hurricanefinal = pd.merge(df_hurricanefinal, df_SahelPrecipIndex_JJAS_mean,how = \"left\", on=['Year'])"
      ],
      "metadata": {
        "id": "u5c19yDMF88N"
      },
      "execution_count": 5,
      "outputs": []
    },
    {
      "cell_type": "code",
      "source": [
        "df_hurricanefinal"
      ],
      "metadata": {
        "colab": {
          "base_uri": "https://localhost:8080/",
          "height": 488
        },
        "id": "QY8JSR1NGtHd",
        "outputId": "69769e2e-9ba3-4768-f9ad-cd6a90cfb688"
      },
      "execution_count": 6,
      "outputs": [
        {
          "output_type": "execute_result",
          "data": {
            "text/html": [
              "\n",
              "  <div id=\"df-929e6184-ff82-4999-8cb6-ca7ba137d01a\">\n",
              "    <div class=\"colab-df-container\">\n",
              "      <div>\n",
              "<style scoped>\n",
              "    .dataframe tbody tr th:only-of-type {\n",
              "        vertical-align: middle;\n",
              "    }\n",
              "\n",
              "    .dataframe tbody tr th {\n",
              "        vertical-align: top;\n",
              "    }\n",
              "\n",
              "    .dataframe thead th {\n",
              "        text-align: right;\n",
              "    }\n",
              "</style>\n",
              "<table border=\"1\" class=\"dataframe\">\n",
              "  <thead>\n",
              "    <tr style=\"text-align: right;\">\n",
              "      <th></th>\n",
              "      <th>Year</th>\n",
              "      <th>HURRICANE_COUNT</th>\n",
              "      <th>ERSSTv5_ASO_MDRRelative</th>\n",
              "      <th>ERSSTv5_ASO_MDR</th>\n",
              "      <th>ERSSTv5_ASO_MDR_anomalies</th>\n",
              "      <th>ERSSTv5_ASO_MDR_tropics</th>\n",
              "      <th>ERSSTv5_ASO_MDR_tropics_anomalies</th>\n",
              "      <th>NAO_DJFM_mean</th>\n",
              "      <th>NAO_MJ_mean</th>\n",
              "      <th>Nino12_DJF</th>\n",
              "      <th>Nino34_DJF</th>\n",
              "      <th>Nino3_DJF</th>\n",
              "      <th>AMM_JJASOM_mean</th>\n",
              "      <th>VK08_TCCount</th>\n",
              "      <th>SahelPrecipIndex_JJAS_mean</th>\n",
              "    </tr>\n",
              "  </thead>\n",
              "  <tbody>\n",
              "    <tr>\n",
              "      <th>0</th>\n",
              "      <td>1870</td>\n",
              "      <td>11</td>\n",
              "      <td>0.239469</td>\n",
              "      <td>27.65656</td>\n",
              "      <td>-0.233739</td>\n",
              "      <td>25.89209</td>\n",
              "      <td>-0.473208</td>\n",
              "      <td>0.00275</td>\n",
              "      <td>1.0530</td>\n",
              "      <td>-0.850000</td>\n",
              "      <td>-0.540000</td>\n",
              "      <td>-0.573333</td>\n",
              "      <td>NaN</td>\n",
              "      <td>NaN</td>\n",
              "      <td>NaN</td>\n",
              "    </tr>\n",
              "    <tr>\n",
              "      <th>1</th>\n",
              "      <td>1871</td>\n",
              "      <td>8</td>\n",
              "      <td>-0.396031</td>\n",
              "      <td>27.01905</td>\n",
              "      <td>-0.871247</td>\n",
              "      <td>25.89008</td>\n",
              "      <td>-0.475217</td>\n",
              "      <td>0.05475</td>\n",
              "      <td>-1.9325</td>\n",
              "      <td>-1.156667</td>\n",
              "      <td>-0.640000</td>\n",
              "      <td>-0.710000</td>\n",
              "      <td>NaN</td>\n",
              "      <td>NaN</td>\n",
              "      <td>NaN</td>\n",
              "    </tr>\n",
              "    <tr>\n",
              "      <th>2</th>\n",
              "      <td>1872</td>\n",
              "      <td>5</td>\n",
              "      <td>-0.743195</td>\n",
              "      <td>26.62783</td>\n",
              "      <td>-1.262471</td>\n",
              "      <td>25.84602</td>\n",
              "      <td>-0.519276</td>\n",
              "      <td>0.24850</td>\n",
              "      <td>-0.1640</td>\n",
              "      <td>-1.003333</td>\n",
              "      <td>-0.890000</td>\n",
              "      <td>-1.046667</td>\n",
              "      <td>NaN</td>\n",
              "      <td>NaN</td>\n",
              "      <td>NaN</td>\n",
              "    </tr>\n",
              "    <tr>\n",
              "      <th>3</th>\n",
              "      <td>1873</td>\n",
              "      <td>5</td>\n",
              "      <td>-0.021984</td>\n",
              "      <td>27.38899</td>\n",
              "      <td>-0.501313</td>\n",
              "      <td>25.88597</td>\n",
              "      <td>-0.479329</td>\n",
              "      <td>1.77750</td>\n",
              "      <td>-0.0725</td>\n",
              "      <td>-1.156667</td>\n",
              "      <td>-0.896667</td>\n",
              "      <td>-1.276667</td>\n",
              "      <td>NaN</td>\n",
              "      <td>NaN</td>\n",
              "      <td>NaN</td>\n",
              "    </tr>\n",
              "    <tr>\n",
              "      <th>4</th>\n",
              "      <td>1874</td>\n",
              "      <td>7</td>\n",
              "      <td>0.161659</td>\n",
              "      <td>27.44587</td>\n",
              "      <td>-0.444434</td>\n",
              "      <td>25.75921</td>\n",
              "      <td>-0.606093</td>\n",
              "      <td>-0.53575</td>\n",
              "      <td>-1.3055</td>\n",
              "      <td>-0.676667</td>\n",
              "      <td>-0.740000</td>\n",
              "      <td>-0.793333</td>\n",
              "      <td>NaN</td>\n",
              "      <td>NaN</td>\n",
              "      <td>NaN</td>\n",
              "    </tr>\n",
              "    <tr>\n",
              "      <th>...</th>\n",
              "      <td>...</td>\n",
              "      <td>...</td>\n",
              "      <td>...</td>\n",
              "      <td>...</td>\n",
              "      <td>...</td>\n",
              "      <td>...</td>\n",
              "      <td>...</td>\n",
              "      <td>...</td>\n",
              "      <td>...</td>\n",
              "      <td>...</td>\n",
              "      <td>...</td>\n",
              "      <td>...</td>\n",
              "      <td>...</td>\n",
              "      <td>...</td>\n",
              "      <td>...</td>\n",
              "    </tr>\n",
              "    <tr>\n",
              "      <th>146</th>\n",
              "      <td>2016</td>\n",
              "      <td>15</td>\n",
              "      <td>0.082054</td>\n",
              "      <td>28.36498</td>\n",
              "      <td>0.474681</td>\n",
              "      <td>26.75793</td>\n",
              "      <td>0.392627</td>\n",
              "      <td>1.17500</td>\n",
              "      <td>-1.0485</td>\n",
              "      <td>0.423333</td>\n",
              "      <td>-0.286667</td>\n",
              "      <td>-0.056667</td>\n",
              "      <td>1.530000</td>\n",
              "      <td>15.0</td>\n",
              "      <td>2.5250</td>\n",
              "    </tr>\n",
              "    <tr>\n",
              "      <th>147</th>\n",
              "      <td>2017</td>\n",
              "      <td>17</td>\n",
              "      <td>0.221386</td>\n",
              "      <td>28.43985</td>\n",
              "      <td>0.549548</td>\n",
              "      <td>26.69346</td>\n",
              "      <td>0.328162</td>\n",
              "      <td>0.39925</td>\n",
              "      <td>-0.0835</td>\n",
              "      <td>-1.073333</td>\n",
              "      <td>-0.813333</td>\n",
              "      <td>-1.010000</td>\n",
              "      <td>2.618333</td>\n",
              "      <td>17.0</td>\n",
              "      <td>1.2625</td>\n",
              "    </tr>\n",
              "    <tr>\n",
              "      <th>148</th>\n",
              "      <td>2018</td>\n",
              "      <td>15</td>\n",
              "      <td>-0.232869</td>\n",
              "      <td>27.93210</td>\n",
              "      <td>0.041802</td>\n",
              "      <td>26.63997</td>\n",
              "      <td>0.274671</td>\n",
              "      <td>1.46525</td>\n",
              "      <td>0.3060</td>\n",
              "      <td>0.706667</td>\n",
              "      <td>0.700000</td>\n",
              "      <td>0.720000</td>\n",
              "      <td>-2.171667</td>\n",
              "      <td>15.0</td>\n",
              "      <td>NaN</td>\n",
              "    </tr>\n",
              "    <tr>\n",
              "      <th>149</th>\n",
              "      <td>2019</td>\n",
              "      <td>18</td>\n",
              "      <td>-0.098519</td>\n",
              "      <td>28.12645</td>\n",
              "      <td>0.236148</td>\n",
              "      <td>26.69997</td>\n",
              "      <td>0.334666</td>\n",
              "      <td>2.22850</td>\n",
              "      <td>-0.3895</td>\n",
              "      <td>-0.113333</td>\n",
              "      <td>0.543333</td>\n",
              "      <td>0.273333</td>\n",
              "      <td>0.566667</td>\n",
              "      <td>18.0</td>\n",
              "      <td>NaN</td>\n",
              "    </tr>\n",
              "    <tr>\n",
              "      <th>150</th>\n",
              "      <td>2020</td>\n",
              "      <td>30</td>\n",
              "      <td>0.183437</td>\n",
              "      <td>28.35310</td>\n",
              "      <td>0.462798</td>\n",
              "      <td>26.64466</td>\n",
              "      <td>0.279361</td>\n",
              "      <td>-0.13500</td>\n",
              "      <td>-0.8060</td>\n",
              "      <td>-0.633000</td>\n",
              "      <td>-0.987000</td>\n",
              "      <td>-0.650000</td>\n",
              "      <td>1.467830</td>\n",
              "      <td>30.0</td>\n",
              "      <td>NaN</td>\n",
              "    </tr>\n",
              "  </tbody>\n",
              "</table>\n",
              "<p>151 rows × 15 columns</p>\n",
              "</div>\n",
              "      <button class=\"colab-df-convert\" onclick=\"convertToInteractive('df-929e6184-ff82-4999-8cb6-ca7ba137d01a')\"\n",
              "              title=\"Convert this dataframe to an interactive table.\"\n",
              "              style=\"display:none;\">\n",
              "        \n",
              "  <svg xmlns=\"http://www.w3.org/2000/svg\" height=\"24px\"viewBox=\"0 0 24 24\"\n",
              "       width=\"24px\">\n",
              "    <path d=\"M0 0h24v24H0V0z\" fill=\"none\"/>\n",
              "    <path d=\"M18.56 5.44l.94 2.06.94-2.06 2.06-.94-2.06-.94-.94-2.06-.94 2.06-2.06.94zm-11 1L8.5 8.5l.94-2.06 2.06-.94-2.06-.94L8.5 2.5l-.94 2.06-2.06.94zm10 10l.94 2.06.94-2.06 2.06-.94-2.06-.94-.94-2.06-.94 2.06-2.06.94z\"/><path d=\"M17.41 7.96l-1.37-1.37c-.4-.4-.92-.59-1.43-.59-.52 0-1.04.2-1.43.59L10.3 9.45l-7.72 7.72c-.78.78-.78 2.05 0 2.83L4 21.41c.39.39.9.59 1.41.59.51 0 1.02-.2 1.41-.59l7.78-7.78 2.81-2.81c.8-.78.8-2.07 0-2.86zM5.41 20L4 18.59l7.72-7.72 1.47 1.35L5.41 20z\"/>\n",
              "  </svg>\n",
              "      </button>\n",
              "      \n",
              "  <style>\n",
              "    .colab-df-container {\n",
              "      display:flex;\n",
              "      flex-wrap:wrap;\n",
              "      gap: 12px;\n",
              "    }\n",
              "\n",
              "    .colab-df-convert {\n",
              "      background-color: #E8F0FE;\n",
              "      border: none;\n",
              "      border-radius: 50%;\n",
              "      cursor: pointer;\n",
              "      display: none;\n",
              "      fill: #1967D2;\n",
              "      height: 32px;\n",
              "      padding: 0 0 0 0;\n",
              "      width: 32px;\n",
              "    }\n",
              "\n",
              "    .colab-df-convert:hover {\n",
              "      background-color: #E2EBFA;\n",
              "      box-shadow: 0px 1px 2px rgba(60, 64, 67, 0.3), 0px 1px 3px 1px rgba(60, 64, 67, 0.15);\n",
              "      fill: #174EA6;\n",
              "    }\n",
              "\n",
              "    [theme=dark] .colab-df-convert {\n",
              "      background-color: #3B4455;\n",
              "      fill: #D2E3FC;\n",
              "    }\n",
              "\n",
              "    [theme=dark] .colab-df-convert:hover {\n",
              "      background-color: #434B5C;\n",
              "      box-shadow: 0px 1px 3px 1px rgba(0, 0, 0, 0.15);\n",
              "      filter: drop-shadow(0px 1px 2px rgba(0, 0, 0, 0.3));\n",
              "      fill: #FFFFFF;\n",
              "    }\n",
              "  </style>\n",
              "\n",
              "      <script>\n",
              "        const buttonEl =\n",
              "          document.querySelector('#df-929e6184-ff82-4999-8cb6-ca7ba137d01a button.colab-df-convert');\n",
              "        buttonEl.style.display =\n",
              "          google.colab.kernel.accessAllowed ? 'block' : 'none';\n",
              "\n",
              "        async function convertToInteractive(key) {\n",
              "          const element = document.querySelector('#df-929e6184-ff82-4999-8cb6-ca7ba137d01a');\n",
              "          const dataTable =\n",
              "            await google.colab.kernel.invokeFunction('convertToInteractive',\n",
              "                                                     [key], {});\n",
              "          if (!dataTable) return;\n",
              "\n",
              "          const docLinkHtml = 'Like what you see? Visit the ' +\n",
              "            '<a target=\"_blank\" href=https://colab.research.google.com/notebooks/data_table.ipynb>data table notebook</a>'\n",
              "            + ' to learn more about interactive tables.';\n",
              "          element.innerHTML = '';\n",
              "          dataTable['output_type'] = 'display_data';\n",
              "          await google.colab.output.renderOutput(dataTable, element);\n",
              "          const docLink = document.createElement('div');\n",
              "          docLink.innerHTML = docLinkHtml;\n",
              "          element.appendChild(docLink);\n",
              "        }\n",
              "      </script>\n",
              "    </div>\n",
              "  </div>\n",
              "  "
            ],
            "text/plain": [
              "     Year  HURRICANE_COUNT  ERSSTv5_ASO_MDRRelative  ERSSTv5_ASO_MDR  \\\n",
              "0    1870               11                 0.239469         27.65656   \n",
              "1    1871                8                -0.396031         27.01905   \n",
              "2    1872                5                -0.743195         26.62783   \n",
              "3    1873                5                -0.021984         27.38899   \n",
              "4    1874                7                 0.161659         27.44587   \n",
              "..    ...              ...                      ...              ...   \n",
              "146  2016               15                 0.082054         28.36498   \n",
              "147  2017               17                 0.221386         28.43985   \n",
              "148  2018               15                -0.232869         27.93210   \n",
              "149  2019               18                -0.098519         28.12645   \n",
              "150  2020               30                 0.183437         28.35310   \n",
              "\n",
              "     ERSSTv5_ASO_MDR_anomalies  ERSSTv5_ASO_MDR_tropics  \\\n",
              "0                    -0.233739                 25.89209   \n",
              "1                    -0.871247                 25.89008   \n",
              "2                    -1.262471                 25.84602   \n",
              "3                    -0.501313                 25.88597   \n",
              "4                    -0.444434                 25.75921   \n",
              "..                         ...                      ...   \n",
              "146                   0.474681                 26.75793   \n",
              "147                   0.549548                 26.69346   \n",
              "148                   0.041802                 26.63997   \n",
              "149                   0.236148                 26.69997   \n",
              "150                   0.462798                 26.64466   \n",
              "\n",
              "     ERSSTv5_ASO_MDR_tropics_anomalies  NAO_DJFM_mean  NAO_MJ_mean  \\\n",
              "0                            -0.473208        0.00275       1.0530   \n",
              "1                            -0.475217        0.05475      -1.9325   \n",
              "2                            -0.519276        0.24850      -0.1640   \n",
              "3                            -0.479329        1.77750      -0.0725   \n",
              "4                            -0.606093       -0.53575      -1.3055   \n",
              "..                                 ...            ...          ...   \n",
              "146                           0.392627        1.17500      -1.0485   \n",
              "147                           0.328162        0.39925      -0.0835   \n",
              "148                           0.274671        1.46525       0.3060   \n",
              "149                           0.334666        2.22850      -0.3895   \n",
              "150                           0.279361       -0.13500      -0.8060   \n",
              "\n",
              "     Nino12_DJF  Nino34_DJF  Nino3_DJF  AMM_JJASOM_mean  VK08_TCCount  \\\n",
              "0     -0.850000   -0.540000  -0.573333              NaN           NaN   \n",
              "1     -1.156667   -0.640000  -0.710000              NaN           NaN   \n",
              "2     -1.003333   -0.890000  -1.046667              NaN           NaN   \n",
              "3     -1.156667   -0.896667  -1.276667              NaN           NaN   \n",
              "4     -0.676667   -0.740000  -0.793333              NaN           NaN   \n",
              "..          ...         ...        ...              ...           ...   \n",
              "146    0.423333   -0.286667  -0.056667         1.530000          15.0   \n",
              "147   -1.073333   -0.813333  -1.010000         2.618333          17.0   \n",
              "148    0.706667    0.700000   0.720000        -2.171667          15.0   \n",
              "149   -0.113333    0.543333   0.273333         0.566667          18.0   \n",
              "150   -0.633000   -0.987000  -0.650000         1.467830          30.0   \n",
              "\n",
              "     SahelPrecipIndex_JJAS_mean  \n",
              "0                           NaN  \n",
              "1                           NaN  \n",
              "2                           NaN  \n",
              "3                           NaN  \n",
              "4                           NaN  \n",
              "..                          ...  \n",
              "146                      2.5250  \n",
              "147                      1.2625  \n",
              "148                         NaN  \n",
              "149                         NaN  \n",
              "150                         NaN  \n",
              "\n",
              "[151 rows x 15 columns]"
            ]
          },
          "metadata": {},
          "execution_count": 6
        }
      ]
    },
    {
      "cell_type": "code",
      "source": [
        "df_hurricanefinalVK08Counts = df_hurricanefinal.dropna(subset=['VK08_TCCount'])\n",
        "test2005 = df_hurricanefinalVK08Counts.loc[df_hurricanefinalVK08Counts.Year == 2005].drop(columns=['HURRICANE_COUNT',\"VK08_TCCount\", 'Year'],axis=1)\n",
        "test2020 = df_hurricanefinalVK08Counts.loc[df_hurricanefinalVK08Counts.Year == 2020].drop(columns=['HURRICANE_COUNT',\"VK08_TCCount\", 'Year'],axis=1)\n",
        "test1999 = df_hurricanefinalVK08Counts.loc[df_hurricanefinalVK08Counts.Year == 1999].drop(columns=['HURRICANE_COUNT',\"VK08_TCCount\", 'Year'],axis=1)"
      ],
      "metadata": {
        "id": "nmF1YW4aKg6v"
      },
      "execution_count": 7,
      "outputs": []
    },
    {
      "cell_type": "code",
      "source": [
        "# df_hurricanefinal1 = df_hurricanefinalVK08Counts.loc[df_hurricanefinal.Year != 2005]\n",
        "# df_hurricanefinal1 = df_hurricanefinal1.loc[df_hurricanefinal.Year != 2020]"
      ],
      "metadata": {
        "id": "C22XWZXiKv2e"
      },
      "execution_count": 8,
      "outputs": []
    },
    {
      "cell_type": "code",
      "source": [
        "df_hurricanefinal1 = df_hurricanefinalVK08Counts"
      ],
      "metadata": {
        "id": "WW9UoCKqpXMY"
      },
      "execution_count": 9,
      "outputs": []
    },
    {
      "cell_type": "code",
      "source": [
        "X = df_hurricanefinal1.drop(columns=['HURRICANE_COUNT',\"VK08_TCCount\", 'Year'],axis=1)\n",
        "y = df_hurricanefinal1['VK08_TCCount']"
      ],
      "metadata": {
        "id": "FJlOe5XLYkpb"
      },
      "execution_count": 10,
      "outputs": []
    },
    {
      "cell_type": "code",
      "source": [
        "df_hurricanefinal1"
      ],
      "metadata": {
        "colab": {
          "base_uri": "https://localhost:8080/",
          "height": 488
        },
        "id": "I-tMeSzorZ0e",
        "outputId": "89ecaf3c-fd73-401d-e4a8-1250db6f452e"
      },
      "execution_count": 11,
      "outputs": [
        {
          "output_type": "execute_result",
          "data": {
            "text/html": [
              "\n",
              "  <div id=\"df-cc74fefb-98d6-469e-beee-f5fa74640d80\">\n",
              "    <div class=\"colab-df-container\">\n",
              "      <div>\n",
              "<style scoped>\n",
              "    .dataframe tbody tr th:only-of-type {\n",
              "        vertical-align: middle;\n",
              "    }\n",
              "\n",
              "    .dataframe tbody tr th {\n",
              "        vertical-align: top;\n",
              "    }\n",
              "\n",
              "    .dataframe thead th {\n",
              "        text-align: right;\n",
              "    }\n",
              "</style>\n",
              "<table border=\"1\" class=\"dataframe\">\n",
              "  <thead>\n",
              "    <tr style=\"text-align: right;\">\n",
              "      <th></th>\n",
              "      <th>Year</th>\n",
              "      <th>HURRICANE_COUNT</th>\n",
              "      <th>ERSSTv5_ASO_MDRRelative</th>\n",
              "      <th>ERSSTv5_ASO_MDR</th>\n",
              "      <th>ERSSTv5_ASO_MDR_anomalies</th>\n",
              "      <th>ERSSTv5_ASO_MDR_tropics</th>\n",
              "      <th>ERSSTv5_ASO_MDR_tropics_anomalies</th>\n",
              "      <th>NAO_DJFM_mean</th>\n",
              "      <th>NAO_MJ_mean</th>\n",
              "      <th>Nino12_DJF</th>\n",
              "      <th>Nino34_DJF</th>\n",
              "      <th>Nino3_DJF</th>\n",
              "      <th>AMM_JJASOM_mean</th>\n",
              "      <th>VK08_TCCount</th>\n",
              "      <th>SahelPrecipIndex_JJAS_mean</th>\n",
              "    </tr>\n",
              "  </thead>\n",
              "  <tbody>\n",
              "    <tr>\n",
              "      <th>8</th>\n",
              "      <td>1878</td>\n",
              "      <td>12</td>\n",
              "      <td>0.782837</td>\n",
              "      <td>28.55411</td>\n",
              "      <td>0.663813</td>\n",
              "      <td>26.24628</td>\n",
              "      <td>-0.119023</td>\n",
              "      <td>-0.81125</td>\n",
              "      <td>-0.6320</td>\n",
              "      <td>-0.373333</td>\n",
              "      <td>-0.493333</td>\n",
              "      <td>-0.540000</td>\n",
              "      <td>NaN</td>\n",
              "      <td>15.370</td>\n",
              "      <td>NaN</td>\n",
              "    </tr>\n",
              "    <tr>\n",
              "      <th>9</th>\n",
              "      <td>1879</td>\n",
              "      <td>8</td>\n",
              "      <td>0.591066</td>\n",
              "      <td>28.04251</td>\n",
              "      <td>0.152207</td>\n",
              "      <td>25.92644</td>\n",
              "      <td>-0.438859</td>\n",
              "      <td>0.74400</td>\n",
              "      <td>0.0680</td>\n",
              "      <td>-0.133333</td>\n",
              "      <td>-0.916667</td>\n",
              "      <td>-0.873333</td>\n",
              "      <td>NaN</td>\n",
              "      <td>11.308</td>\n",
              "      <td>NaN</td>\n",
              "    </tr>\n",
              "    <tr>\n",
              "      <th>10</th>\n",
              "      <td>1880</td>\n",
              "      <td>11</td>\n",
              "      <td>0.067194</td>\n",
              "      <td>27.45252</td>\n",
              "      <td>-0.437781</td>\n",
              "      <td>25.86032</td>\n",
              "      <td>-0.504975</td>\n",
              "      <td>-1.30050</td>\n",
              "      <td>-0.6660</td>\n",
              "      <td>-0.103333</td>\n",
              "      <td>0.233333</td>\n",
              "      <td>0.040000</td>\n",
              "      <td>NaN</td>\n",
              "      <td>14.084</td>\n",
              "      <td>NaN</td>\n",
              "    </tr>\n",
              "    <tr>\n",
              "      <th>11</th>\n",
              "      <td>1881</td>\n",
              "      <td>7</td>\n",
              "      <td>0.286079</td>\n",
              "      <td>27.76526</td>\n",
              "      <td>-0.125039</td>\n",
              "      <td>25.95418</td>\n",
              "      <td>-0.411118</td>\n",
              "      <td>3.16025</td>\n",
              "      <td>0.4140</td>\n",
              "      <td>-0.673333</td>\n",
              "      <td>-0.456667</td>\n",
              "      <td>-0.613333</td>\n",
              "      <td>NaN</td>\n",
              "      <td>10.234</td>\n",
              "      <td>NaN</td>\n",
              "    </tr>\n",
              "    <tr>\n",
              "      <th>12</th>\n",
              "      <td>1882</td>\n",
              "      <td>6</td>\n",
              "      <td>0.081678</td>\n",
              "      <td>27.46557</td>\n",
              "      <td>-0.424733</td>\n",
              "      <td>25.85889</td>\n",
              "      <td>-0.506411</td>\n",
              "      <td>0.29575</td>\n",
              "      <td>-0.6590</td>\n",
              "      <td>-1.133333</td>\n",
              "      <td>-0.566667</td>\n",
              "      <td>-0.766667</td>\n",
              "      <td>NaN</td>\n",
              "      <td>9.183</td>\n",
              "      <td>NaN</td>\n",
              "    </tr>\n",
              "    <tr>\n",
              "      <th>...</th>\n",
              "      <td>...</td>\n",
              "      <td>...</td>\n",
              "      <td>...</td>\n",
              "      <td>...</td>\n",
              "      <td>...</td>\n",
              "      <td>...</td>\n",
              "      <td>...</td>\n",
              "      <td>...</td>\n",
              "      <td>...</td>\n",
              "      <td>...</td>\n",
              "      <td>...</td>\n",
              "      <td>...</td>\n",
              "      <td>...</td>\n",
              "      <td>...</td>\n",
              "      <td>...</td>\n",
              "    </tr>\n",
              "    <tr>\n",
              "      <th>146</th>\n",
              "      <td>2016</td>\n",
              "      <td>15</td>\n",
              "      <td>0.082054</td>\n",
              "      <td>28.36498</td>\n",
              "      <td>0.474681</td>\n",
              "      <td>26.75793</td>\n",
              "      <td>0.392627</td>\n",
              "      <td>1.17500</td>\n",
              "      <td>-1.0485</td>\n",
              "      <td>0.423333</td>\n",
              "      <td>-0.286667</td>\n",
              "      <td>-0.056667</td>\n",
              "      <td>1.530000</td>\n",
              "      <td>15.000</td>\n",
              "      <td>2.5250</td>\n",
              "    </tr>\n",
              "    <tr>\n",
              "      <th>147</th>\n",
              "      <td>2017</td>\n",
              "      <td>17</td>\n",
              "      <td>0.221386</td>\n",
              "      <td>28.43985</td>\n",
              "      <td>0.549548</td>\n",
              "      <td>26.69346</td>\n",
              "      <td>0.328162</td>\n",
              "      <td>0.39925</td>\n",
              "      <td>-0.0835</td>\n",
              "      <td>-1.073333</td>\n",
              "      <td>-0.813333</td>\n",
              "      <td>-1.010000</td>\n",
              "      <td>2.618333</td>\n",
              "      <td>17.000</td>\n",
              "      <td>1.2625</td>\n",
              "    </tr>\n",
              "    <tr>\n",
              "      <th>148</th>\n",
              "      <td>2018</td>\n",
              "      <td>15</td>\n",
              "      <td>-0.232869</td>\n",
              "      <td>27.93210</td>\n",
              "      <td>0.041802</td>\n",
              "      <td>26.63997</td>\n",
              "      <td>0.274671</td>\n",
              "      <td>1.46525</td>\n",
              "      <td>0.3060</td>\n",
              "      <td>0.706667</td>\n",
              "      <td>0.700000</td>\n",
              "      <td>0.720000</td>\n",
              "      <td>-2.171667</td>\n",
              "      <td>15.000</td>\n",
              "      <td>NaN</td>\n",
              "    </tr>\n",
              "    <tr>\n",
              "      <th>149</th>\n",
              "      <td>2019</td>\n",
              "      <td>18</td>\n",
              "      <td>-0.098519</td>\n",
              "      <td>28.12645</td>\n",
              "      <td>0.236148</td>\n",
              "      <td>26.69997</td>\n",
              "      <td>0.334666</td>\n",
              "      <td>2.22850</td>\n",
              "      <td>-0.3895</td>\n",
              "      <td>-0.113333</td>\n",
              "      <td>0.543333</td>\n",
              "      <td>0.273333</td>\n",
              "      <td>0.566667</td>\n",
              "      <td>18.000</td>\n",
              "      <td>NaN</td>\n",
              "    </tr>\n",
              "    <tr>\n",
              "      <th>150</th>\n",
              "      <td>2020</td>\n",
              "      <td>30</td>\n",
              "      <td>0.183437</td>\n",
              "      <td>28.35310</td>\n",
              "      <td>0.462798</td>\n",
              "      <td>26.64466</td>\n",
              "      <td>0.279361</td>\n",
              "      <td>-0.13500</td>\n",
              "      <td>-0.8060</td>\n",
              "      <td>-0.633000</td>\n",
              "      <td>-0.987000</td>\n",
              "      <td>-0.650000</td>\n",
              "      <td>1.467830</td>\n",
              "      <td>30.000</td>\n",
              "      <td>NaN</td>\n",
              "    </tr>\n",
              "  </tbody>\n",
              "</table>\n",
              "<p>143 rows × 15 columns</p>\n",
              "</div>\n",
              "      <button class=\"colab-df-convert\" onclick=\"convertToInteractive('df-cc74fefb-98d6-469e-beee-f5fa74640d80')\"\n",
              "              title=\"Convert this dataframe to an interactive table.\"\n",
              "              style=\"display:none;\">\n",
              "        \n",
              "  <svg xmlns=\"http://www.w3.org/2000/svg\" height=\"24px\"viewBox=\"0 0 24 24\"\n",
              "       width=\"24px\">\n",
              "    <path d=\"M0 0h24v24H0V0z\" fill=\"none\"/>\n",
              "    <path d=\"M18.56 5.44l.94 2.06.94-2.06 2.06-.94-2.06-.94-.94-2.06-.94 2.06-2.06.94zm-11 1L8.5 8.5l.94-2.06 2.06-.94-2.06-.94L8.5 2.5l-.94 2.06-2.06.94zm10 10l.94 2.06.94-2.06 2.06-.94-2.06-.94-.94-2.06-.94 2.06-2.06.94z\"/><path d=\"M17.41 7.96l-1.37-1.37c-.4-.4-.92-.59-1.43-.59-.52 0-1.04.2-1.43.59L10.3 9.45l-7.72 7.72c-.78.78-.78 2.05 0 2.83L4 21.41c.39.39.9.59 1.41.59.51 0 1.02-.2 1.41-.59l7.78-7.78 2.81-2.81c.8-.78.8-2.07 0-2.86zM5.41 20L4 18.59l7.72-7.72 1.47 1.35L5.41 20z\"/>\n",
              "  </svg>\n",
              "      </button>\n",
              "      \n",
              "  <style>\n",
              "    .colab-df-container {\n",
              "      display:flex;\n",
              "      flex-wrap:wrap;\n",
              "      gap: 12px;\n",
              "    }\n",
              "\n",
              "    .colab-df-convert {\n",
              "      background-color: #E8F0FE;\n",
              "      border: none;\n",
              "      border-radius: 50%;\n",
              "      cursor: pointer;\n",
              "      display: none;\n",
              "      fill: #1967D2;\n",
              "      height: 32px;\n",
              "      padding: 0 0 0 0;\n",
              "      width: 32px;\n",
              "    }\n",
              "\n",
              "    .colab-df-convert:hover {\n",
              "      background-color: #E2EBFA;\n",
              "      box-shadow: 0px 1px 2px rgba(60, 64, 67, 0.3), 0px 1px 3px 1px rgba(60, 64, 67, 0.15);\n",
              "      fill: #174EA6;\n",
              "    }\n",
              "\n",
              "    [theme=dark] .colab-df-convert {\n",
              "      background-color: #3B4455;\n",
              "      fill: #D2E3FC;\n",
              "    }\n",
              "\n",
              "    [theme=dark] .colab-df-convert:hover {\n",
              "      background-color: #434B5C;\n",
              "      box-shadow: 0px 1px 3px 1px rgba(0, 0, 0, 0.15);\n",
              "      filter: drop-shadow(0px 1px 2px rgba(0, 0, 0, 0.3));\n",
              "      fill: #FFFFFF;\n",
              "    }\n",
              "  </style>\n",
              "\n",
              "      <script>\n",
              "        const buttonEl =\n",
              "          document.querySelector('#df-cc74fefb-98d6-469e-beee-f5fa74640d80 button.colab-df-convert');\n",
              "        buttonEl.style.display =\n",
              "          google.colab.kernel.accessAllowed ? 'block' : 'none';\n",
              "\n",
              "        async function convertToInteractive(key) {\n",
              "          const element = document.querySelector('#df-cc74fefb-98d6-469e-beee-f5fa74640d80');\n",
              "          const dataTable =\n",
              "            await google.colab.kernel.invokeFunction('convertToInteractive',\n",
              "                                                     [key], {});\n",
              "          if (!dataTable) return;\n",
              "\n",
              "          const docLinkHtml = 'Like what you see? Visit the ' +\n",
              "            '<a target=\"_blank\" href=https://colab.research.google.com/notebooks/data_table.ipynb>data table notebook</a>'\n",
              "            + ' to learn more about interactive tables.';\n",
              "          element.innerHTML = '';\n",
              "          dataTable['output_type'] = 'display_data';\n",
              "          await google.colab.output.renderOutput(dataTable, element);\n",
              "          const docLink = document.createElement('div');\n",
              "          docLink.innerHTML = docLinkHtml;\n",
              "          element.appendChild(docLink);\n",
              "        }\n",
              "      </script>\n",
              "    </div>\n",
              "  </div>\n",
              "  "
            ],
            "text/plain": [
              "     Year  HURRICANE_COUNT  ERSSTv5_ASO_MDRRelative  ERSSTv5_ASO_MDR  \\\n",
              "8    1878               12                 0.782837         28.55411   \n",
              "9    1879                8                 0.591066         28.04251   \n",
              "10   1880               11                 0.067194         27.45252   \n",
              "11   1881                7                 0.286079         27.76526   \n",
              "12   1882                6                 0.081678         27.46557   \n",
              "..    ...              ...                      ...              ...   \n",
              "146  2016               15                 0.082054         28.36498   \n",
              "147  2017               17                 0.221386         28.43985   \n",
              "148  2018               15                -0.232869         27.93210   \n",
              "149  2019               18                -0.098519         28.12645   \n",
              "150  2020               30                 0.183437         28.35310   \n",
              "\n",
              "     ERSSTv5_ASO_MDR_anomalies  ERSSTv5_ASO_MDR_tropics  \\\n",
              "8                     0.663813                 26.24628   \n",
              "9                     0.152207                 25.92644   \n",
              "10                   -0.437781                 25.86032   \n",
              "11                   -0.125039                 25.95418   \n",
              "12                   -0.424733                 25.85889   \n",
              "..                         ...                      ...   \n",
              "146                   0.474681                 26.75793   \n",
              "147                   0.549548                 26.69346   \n",
              "148                   0.041802                 26.63997   \n",
              "149                   0.236148                 26.69997   \n",
              "150                   0.462798                 26.64466   \n",
              "\n",
              "     ERSSTv5_ASO_MDR_tropics_anomalies  NAO_DJFM_mean  NAO_MJ_mean  \\\n",
              "8                            -0.119023       -0.81125      -0.6320   \n",
              "9                            -0.438859        0.74400       0.0680   \n",
              "10                           -0.504975       -1.30050      -0.6660   \n",
              "11                           -0.411118        3.16025       0.4140   \n",
              "12                           -0.506411        0.29575      -0.6590   \n",
              "..                                 ...            ...          ...   \n",
              "146                           0.392627        1.17500      -1.0485   \n",
              "147                           0.328162        0.39925      -0.0835   \n",
              "148                           0.274671        1.46525       0.3060   \n",
              "149                           0.334666        2.22850      -0.3895   \n",
              "150                           0.279361       -0.13500      -0.8060   \n",
              "\n",
              "     Nino12_DJF  Nino34_DJF  Nino3_DJF  AMM_JJASOM_mean  VK08_TCCount  \\\n",
              "8     -0.373333   -0.493333  -0.540000              NaN        15.370   \n",
              "9     -0.133333   -0.916667  -0.873333              NaN        11.308   \n",
              "10    -0.103333    0.233333   0.040000              NaN        14.084   \n",
              "11    -0.673333   -0.456667  -0.613333              NaN        10.234   \n",
              "12    -1.133333   -0.566667  -0.766667              NaN         9.183   \n",
              "..          ...         ...        ...              ...           ...   \n",
              "146    0.423333   -0.286667  -0.056667         1.530000        15.000   \n",
              "147   -1.073333   -0.813333  -1.010000         2.618333        17.000   \n",
              "148    0.706667    0.700000   0.720000        -2.171667        15.000   \n",
              "149   -0.113333    0.543333   0.273333         0.566667        18.000   \n",
              "150   -0.633000   -0.987000  -0.650000         1.467830        30.000   \n",
              "\n",
              "     SahelPrecipIndex_JJAS_mean  \n",
              "8                           NaN  \n",
              "9                           NaN  \n",
              "10                          NaN  \n",
              "11                          NaN  \n",
              "12                          NaN  \n",
              "..                          ...  \n",
              "146                      2.5250  \n",
              "147                      1.2625  \n",
              "148                         NaN  \n",
              "149                         NaN  \n",
              "150                         NaN  \n",
              "\n",
              "[143 rows x 15 columns]"
            ]
          },
          "metadata": {},
          "execution_count": 11
        }
      ]
    },
    {
      "cell_type": "code",
      "source": [
        "#check NA\n",
        "X.isna().sum()"
      ],
      "metadata": {
        "colab": {
          "base_uri": "https://localhost:8080/"
        },
        "id": "3ai63owIKxQo",
        "outputId": "dc168e33-b179-480c-8d2c-39d14b821613"
      },
      "execution_count": 12,
      "outputs": [
        {
          "output_type": "execute_result",
          "data": {
            "text/plain": [
              "ERSSTv5_ASO_MDRRelative               0\n",
              "ERSSTv5_ASO_MDR                       0\n",
              "ERSSTv5_ASO_MDR_anomalies             0\n",
              "ERSSTv5_ASO_MDR_tropics               0\n",
              "ERSSTv5_ASO_MDR_tropics_anomalies     0\n",
              "NAO_DJFM_mean                         0\n",
              "NAO_MJ_mean                           0\n",
              "Nino12_DJF                            0\n",
              "Nino34_DJF                            0\n",
              "Nino3_DJF                             0\n",
              "AMM_JJASOM_mean                      72\n",
              "SahelPrecipIndex_JJAS_mean           26\n",
              "dtype: int64"
            ]
          },
          "metadata": {},
          "execution_count": 12
        }
      ]
    },
    {
      "cell_type": "code",
      "source": [
        "y"
      ],
      "metadata": {
        "colab": {
          "base_uri": "https://localhost:8080/"
        },
        "id": "-6ekdYX1naJE",
        "outputId": "c641c357-976e-4075-cbff-181cdd3e2643"
      },
      "execution_count": 13,
      "outputs": [
        {
          "output_type": "execute_result",
          "data": {
            "text/plain": [
              "8      15.370\n",
              "9      11.308\n",
              "10     14.084\n",
              "11     10.234\n",
              "12      9.183\n",
              "        ...  \n",
              "146    15.000\n",
              "147    17.000\n",
              "148    15.000\n",
              "149    18.000\n",
              "150    30.000\n",
              "Name: VK08_TCCount, Length: 143, dtype: float64"
            ]
          },
          "metadata": {},
          "execution_count": 13
        }
      ]
    },
    {
      "cell_type": "code",
      "source": [
        "import matplotlib\n",
        "import matplotlib.pyplot as plt"
      ],
      "metadata": {
        "id": "AikhaXAblRmI"
      },
      "execution_count": 14,
      "outputs": []
    },
    {
      "cell_type": "code",
      "source": [
        "import seaborn as sns\n",
        "sns.boxplot(x=df_hurricanefinal1['VK08_TCCount'])"
      ],
      "metadata": {
        "colab": {
          "base_uri": "https://localhost:8080/",
          "height": 298
        },
        "id": "AgO83vBFmpo0",
        "outputId": "57d6da51-b4a0-49d7-aba2-9321f46595ea"
      },
      "execution_count": 15,
      "outputs": [
        {
          "output_type": "execute_result",
          "data": {
            "text/plain": [
              "<matplotlib.axes._subplots.AxesSubplot at 0x7f0fbe5bea90>"
            ]
          },
          "metadata": {},
          "execution_count": 15
        },
        {
          "output_type": "display_data",
          "data": {
            "image/png": "[encoded data removed]",
            "text/plain": [
              "<Figure size 432x288 with 1 Axes>"
            ]
          },
          "metadata": {
            "needs_background": "light"
          }
        }
      ]
    },
    {
      "cell_type": "code",
      "source": [
        "fig, ax = plt.subplots(figsize=(16,8))\n",
        "ax.scatter(df_hurricanefinal1['Year'],df_hurricanefinal1['VK08_TCCount'])\n",
        "ax.set_xlabel('count')\n",
        "ax.set_ylabel('year')\n",
        "plt.show()"
      ],
      "metadata": {
        "colab": {
          "base_uri": "https://localhost:8080/",
          "height": 497
        },
        "id": "P_WhgiZLnHd0",
        "outputId": "93113151-2e39-4425-d76f-d3baddfb15e9"
      },
      "execution_count": 16,
      "outputs": [
        {
          "output_type": "display_data",
          "data": {
            "image/png": "[encoded data removed]",
            "text/plain": [
              "<Figure size 1152x576 with 1 Axes>"
            ]
          },
          "metadata": {
            "needs_background": "light"
          }
        }
      ]
    },
    {
      "cell_type": "code",
      "source": [
        ""
      ],
      "metadata": {
        "id": "HZWyUIPGq_ye"
      },
      "execution_count": 16,
      "outputs": []
    },
    {
      "cell_type": "code",
      "source": [
        "from sklearn.cluster import DBSCAN\n",
        "def remove_outliers_DBSCAN(df,eps,min_samples):\n",
        "    outlier_detection = DBSCAN(eps = eps, min_samples = min_samples)\n",
        "    clusters = outlier_detection.fit_predict(df.values.reshape(-1,1))\n",
        "    data = pd.DataFrame()\n",
        "    data['cluster'] = clusters\n",
        "    return data['cluster']"
      ],
      "metadata": {
        "id": "YfZ9DgbRq_2J"
      },
      "execution_count": 17,
      "outputs": []
    },
    {
      "cell_type": "code",
      "source": [
        "clusters=remove_outliers_DBSCAN((df_hurricanefinal1['VK08_TCCount']),1,3)\n",
        "clusters.value_counts().sort_values(ascending=False)"
      ],
      "metadata": {
        "colab": {
          "base_uri": "https://localhost:8080/"
        },
        "id": "1g8B4YGGrHEj",
        "outputId": "4e3be599-0f02-4833-d969-882214d0ef04"
      },
      "execution_count": 44,
      "outputs": [
        {
          "output_type": "execute_result",
          "data": {
            "text/plain": [
              " 0    139\n",
              "-1      4\n",
              "Name: cluster, dtype: int64"
            ]
          },
          "metadata": {},
          "execution_count": 44
        }
      ]
    },
    {
      "cell_type": "code",
      "source": [
        "df_cluster=pd.DataFrame(clusters)\n",
        "ind_outlier=df_cluster.index[df_cluster['cluster']==-1]\n",
        "ind_outlier"
      ],
      "metadata": {
        "colab": {
          "base_uri": "https://localhost:8080/"
        },
        "id": "7pdLnigdrN6f",
        "outputId": "0957c01d-da7d-4103-e6f9-d8036a71b855"
      },
      "execution_count": 45,
      "outputs": [
        {
          "output_type": "execute_result",
          "data": {
            "text/plain": [
              "Int64Index([9, 55, 127, 142], dtype='int64')"
            ]
          },
          "metadata": {},
          "execution_count": 45
        }
      ]
    },
    {
      "cell_type": "code",
      "source": [
        "df_hurricanefinal1[['Year','VK08_TCCount']].iloc[ind_outlier]"
      ],
      "metadata": {
        "colab": {
          "base_uri": "https://localhost:8080/",
          "height": 175
        },
        "id": "tZpuZUqfrqCR",
        "outputId": "484fc2cc-20de-49f0-e816-c1ea63b8f461"
      },
      "execution_count": 46,
      "outputs": [
        {
          "output_type": "execute_result",
          "data": {
            "text/html": [
              "\n",
              "  <div id=\"df-3f5f6002-1f6b-40f9-9c91-583f671f52df\">\n",
              "    <div class=\"colab-df-container\">\n",
              "      <div>\n",
              "<style scoped>\n",
              "    .dataframe tbody tr th:only-of-type {\n",
              "        vertical-align: middle;\n",
              "    }\n",
              "\n",
              "    .dataframe tbody tr th {\n",
              "        vertical-align: top;\n",
              "    }\n",
              "\n",
              "    .dataframe thead th {\n",
              "        text-align: right;\n",
              "    }\n",
              "</style>\n",
              "<table border=\"1\" class=\"dataframe\">\n",
              "  <thead>\n",
              "    <tr style=\"text-align: right;\">\n",
              "      <th></th>\n",
              "      <th>Year</th>\n",
              "      <th>VK08_TCCount</th>\n",
              "    </tr>\n",
              "  </thead>\n",
              "  <tbody>\n",
              "    <tr>\n",
              "      <th>17</th>\n",
              "      <td>1887</td>\n",
              "      <td>21.521</td>\n",
              "    </tr>\n",
              "    <tr>\n",
              "      <th>63</th>\n",
              "      <td>1933</td>\n",
              "      <td>21.572</td>\n",
              "    </tr>\n",
              "    <tr>\n",
              "      <th>135</th>\n",
              "      <td>2005</td>\n",
              "      <td>28.000</td>\n",
              "    </tr>\n",
              "    <tr>\n",
              "      <th>150</th>\n",
              "      <td>2020</td>\n",
              "      <td>30.000</td>\n",
              "    </tr>\n",
              "  </tbody>\n",
              "</table>\n",
              "</div>\n",
              "      <button class=\"colab-df-convert\" onclick=\"convertToInteractive('df-3f5f6002-1f6b-40f9-9c91-583f671f52df')\"\n",
              "              title=\"Convert this dataframe to an interactive table.\"\n",
              "              style=\"display:none;\">\n",
              "        \n",
              "  <svg xmlns=\"http://www.w3.org/2000/svg\" height=\"24px\"viewBox=\"0 0 24 24\"\n",
              "       width=\"24px\">\n",
              "    <path d=\"M0 0h24v24H0V0z\" fill=\"none\"/>\n",
              "    <path d=\"M18.56 5.44l.94 2.06.94-2.06 2.06-.94-2.06-.94-.94-2.06-.94 2.06-2.06.94zm-11 1L8.5 8.5l.94-2.06 2.06-.94-2.06-.94L8.5 2.5l-.94 2.06-2.06.94zm10 10l.94 2.06.94-2.06 2.06-.94-2.06-.94-.94-2.06-.94 2.06-2.06.94z\"/><path d=\"M17.41 7.96l-1.37-1.37c-.4-.4-.92-.59-1.43-.59-.52 0-1.04.2-1.43.59L10.3 9.45l-7.72 7.72c-.78.78-.78 2.05 0 2.83L4 21.41c.39.39.9.59 1.41.59.51 0 1.02-.2 1.41-.59l7.78-7.78 2.81-2.81c.8-.78.8-2.07 0-2.86zM5.41 20L4 18.59l7.72-7.72 1.47 1.35L5.41 20z\"/>\n",
              "  </svg>\n",
              "      </button>\n",
              "      \n",
              "  <style>\n",
              "    .colab-df-container {\n",
              "      display:flex;\n",
              "      flex-wrap:wrap;\n",
              "      gap: 12px;\n",
              "    }\n",
              "\n",
              "    .colab-df-convert {\n",
              "      background-color: #E8F0FE;\n",
              "      border: none;\n",
              "      border-radius: 50%;\n",
              "      cursor: pointer;\n",
              "      display: none;\n",
              "      fill: #1967D2;\n",
              "      height: 32px;\n",
              "      padding: 0 0 0 0;\n",
              "      width: 32px;\n",
              "    }\n",
              "\n",
              "    .colab-df-convert:hover {\n",
              "      background-color: #E2EBFA;\n",
              "      box-shadow: 0px 1px 2px rgba(60, 64, 67, 0.3), 0px 1px 3px 1px rgba(60, 64, 67, 0.15);\n",
              "      fill: #174EA6;\n",
              "    }\n",
              "\n",
              "    [theme=dark] .colab-df-convert {\n",
              "      background-color: #3B4455;\n",
              "      fill: #D2E3FC;\n",
              "    }\n",
              "\n",
              "    [theme=dark] .colab-df-convert:hover {\n",
              "      background-color: #434B5C;\n",
              "      box-shadow: 0px 1px 3px 1px rgba(0, 0, 0, 0.15);\n",
              "      filter: drop-shadow(0px 1px 2px rgba(0, 0, 0, 0.3));\n",
              "      fill: #FFFFFF;\n",
              "    }\n",
              "  </style>\n",
              "\n",
              "      <script>\n",
              "        const buttonEl =\n",
              "          document.querySelector('#df-3f5f6002-1f6b-40f9-9c91-583f671f52df button.colab-df-convert');\n",
              "        buttonEl.style.display =\n",
              "          google.colab.kernel.accessAllowed ? 'block' : 'none';\n",
              "\n",
              "        async function convertToInteractive(key) {\n",
              "          const element = document.querySelector('#df-3f5f6002-1f6b-40f9-9c91-583f671f52df');\n",
              "          const dataTable =\n",
              "            await google.colab.kernel.invokeFunction('convertToInteractive',\n",
              "                                                     [key], {});\n",
              "          if (!dataTable) return;\n",
              "\n",
              "          const docLinkHtml = 'Like what you see? Visit the ' +\n",
              "            '<a target=\"_blank\" href=https://colab.research.google.com/notebooks/data_table.ipynb>data table notebook</a>'\n",
              "            + ' to learn more about interactive tables.';\n",
              "          element.innerHTML = '';\n",
              "          dataTable['output_type'] = 'display_data';\n",
              "          await google.colab.output.renderOutput(dataTable, element);\n",
              "          const docLink = document.createElement('div');\n",
              "          docLink.innerHTML = docLinkHtml;\n",
              "          element.appendChild(docLink);\n",
              "        }\n",
              "      </script>\n",
              "    </div>\n",
              "  </div>\n",
              "  "
            ],
            "text/plain": [
              "     Year  VK08_TCCount\n",
              "17   1887        21.521\n",
              "63   1933        21.572\n",
              "135  2005        28.000\n",
              "150  2020        30.000"
            ]
          },
          "metadata": {},
          "execution_count": 46
        }
      ]
    },
    {
      "cell_type": "code",
      "source": [
        "fig, ax = plt.subplots(figsize=(16,8))\n",
        "ax.scatter(df_hurricanefinal1['Year'],df_hurricanefinal1['ERSSTv5_ASO_MDR'])\n",
        "ax.set_xlabel('value')\n",
        "ax.set_ylabel('year')\n",
        "plt.show()"
      ],
      "metadata": {
        "colab": {
          "base_uri": "https://localhost:8080/",
          "height": 499
        },
        "id": "e_626ivPs9v8",
        "outputId": "0033d775-36fd-4d13-8d9e-1fe24b194517"
      },
      "execution_count": 21,
      "outputs": [
        {
          "output_type": "display_data",
          "data": {
            "image/png": "[encoded data removed]",
            "text/plain": [
              "<Figure size 1152x576 with 1 Axes>"
            ]
          },
          "metadata": {
            "needs_background": "light"
          }
        }
      ]
    },
    {
      "cell_type": "code",
      "source": [
        "clusters=remove_outliers_DBSCAN((df_hurricanefinal1['ERSSTv5_ASO_MDR']),0.1,3)\n",
        "clusters.value_counts().sort_values(ascending=False)\n",
        "df_cluster=pd.DataFrame(clusters)\n",
        "ind_outlier=df_cluster.index[df_cluster['cluster']==-1]\n",
        "ind_outlier"
      ],
      "metadata": {
        "colab": {
          "base_uri": "https://localhost:8080/"
        },
        "id": "Ghml6HDZwt5B",
        "outputId": "e7940208-2428-4b46-9fe8-e6f743ad246d"
      },
      "execution_count": 22,
      "outputs": [
        {
          "output_type": "execute_result",
          "data": {
            "text/plain": [
              "Int64Index([0, 67, 132], dtype='int64')"
            ]
          },
          "metadata": {},
          "execution_count": 22
        }
      ]
    },
    {
      "cell_type": "code",
      "source": [
        "df_hurricanefinal1[['Year','ERSSTv5_ASO_MDR']].iloc[ind_outlier]"
      ],
      "metadata": {
        "colab": {
          "base_uri": "https://localhost:8080/",
          "height": 143
        },
        "id": "3d8qtSFzw1x_",
        "outputId": "2ae6d20a-7728-4fcf-9da6-18ad7b08e595"
      },
      "execution_count": 23,
      "outputs": [
        {
          "output_type": "execute_result",
          "data": {
            "text/html": [
              "\n",
              "  <div id=\"df-cf3a2963-9860-4bde-924b-b2b7ba817236\">\n",
              "    <div class=\"colab-df-container\">\n",
              "      <div>\n",
              "<style scoped>\n",
              "    .dataframe tbody tr th:only-of-type {\n",
              "        vertical-align: middle;\n",
              "    }\n",
              "\n",
              "    .dataframe tbody tr th {\n",
              "        vertical-align: top;\n",
              "    }\n",
              "\n",
              "    .dataframe thead th {\n",
              "        text-align: right;\n",
              "    }\n",
              "</style>\n",
              "<table border=\"1\" class=\"dataframe\">\n",
              "  <thead>\n",
              "    <tr style=\"text-align: right;\">\n",
              "      <th></th>\n",
              "      <th>Year</th>\n",
              "      <th>ERSSTv5_ASO_MDR</th>\n",
              "    </tr>\n",
              "  </thead>\n",
              "  <tbody>\n",
              "    <tr>\n",
              "      <th>8</th>\n",
              "      <td>1878</td>\n",
              "      <td>28.55411</td>\n",
              "    </tr>\n",
              "    <tr>\n",
              "      <th>75</th>\n",
              "      <td>1945</td>\n",
              "      <td>28.54538</td>\n",
              "    </tr>\n",
              "    <tr>\n",
              "      <th>140</th>\n",
              "      <td>2010</td>\n",
              "      <td>28.65902</td>\n",
              "    </tr>\n",
              "  </tbody>\n",
              "</table>\n",
              "</div>\n",
              "      <button class=\"colab-df-convert\" onclick=\"convertToInteractive('df-cf3a2963-9860-4bde-924b-b2b7ba817236')\"\n",
              "              title=\"Convert this dataframe to an interactive table.\"\n",
              "              style=\"display:none;\">\n",
              "        \n",
              "  <svg xmlns=\"http://www.w3.org/2000/svg\" height=\"24px\"viewBox=\"0 0 24 24\"\n",
              "       width=\"24px\">\n",
              "    <path d=\"M0 0h24v24H0V0z\" fill=\"none\"/>\n",
              "    <path d=\"M18.56 5.44l.94 2.06.94-2.06 2.06-.94-2.06-.94-.94-2.06-.94 2.06-2.06.94zm-11 1L8.5 8.5l.94-2.06 2.06-.94-2.06-.94L8.5 2.5l-.94 2.06-2.06.94zm10 10l.94 2.06.94-2.06 2.06-.94-2.06-.94-.94-2.06-.94 2.06-2.06.94z\"/><path d=\"M17.41 7.96l-1.37-1.37c-.4-.4-.92-.59-1.43-.59-.52 0-1.04.2-1.43.59L10.3 9.45l-7.72 7.72c-.78.78-.78 2.05 0 2.83L4 21.41c.39.39.9.59 1.41.59.51 0 1.02-.2 1.41-.59l7.78-7.78 2.81-2.81c.8-.78.8-2.07 0-2.86zM5.41 20L4 18.59l7.72-7.72 1.47 1.35L5.41 20z\"/>\n",
              "  </svg>\n",
              "      </button>\n",
              "      \n",
              "  <style>\n",
              "    .colab-df-container {\n",
              "      display:flex;\n",
              "      flex-wrap:wrap;\n",
              "      gap: 12px;\n",
              "    }\n",
              "\n",
              "    .colab-df-convert {\n",
              "      background-color: #E8F0FE;\n",
              "      border: none;\n",
              "      border-radius: 50%;\n",
              "      cursor: pointer;\n",
              "      display: none;\n",
              "      fill: #1967D2;\n",
              "      height: 32px;\n",
              "      padding: 0 0 0 0;\n",
              "      width: 32px;\n",
              "    }\n",
              "\n",
              "    .colab-df-convert:hover {\n",
              "      background-color: #E2EBFA;\n",
              "      box-shadow: 0px 1px 2px rgba(60, 64, 67, 0.3), 0px 1px 3px 1px rgba(60, 64, 67, 0.15);\n",
              "      fill: #174EA6;\n",
              "    }\n",
              "\n",
              "    [theme=dark] .colab-df-convert {\n",
              "      background-color: #3B4455;\n",
              "      fill: #D2E3FC;\n",
              "    }\n",
              "\n",
              "    [theme=dark] .colab-df-convert:hover {\n",
              "      background-color: #434B5C;\n",
              "      box-shadow: 0px 1px 3px 1px rgba(0, 0, 0, 0.15);\n",
              "      filter: drop-shadow(0px 1px 2px rgba(0, 0, 0, 0.3));\n",
              "      fill: #FFFFFF;\n",
              "    }\n",
              "  </style>\n",
              "\n",
              "      <script>\n",
              "        const buttonEl =\n",
              "          document.querySelector('#df-cf3a2963-9860-4bde-924b-b2b7ba817236 button.colab-df-convert');\n",
              "        buttonEl.style.display =\n",
              "          google.colab.kernel.accessAllowed ? 'block' : 'none';\n",
              "\n",
              "        async function convertToInteractive(key) {\n",
              "          const element = document.querySelector('#df-cf3a2963-9860-4bde-924b-b2b7ba817236');\n",
              "          const dataTable =\n",
              "            await google.colab.kernel.invokeFunction('convertToInteractive',\n",
              "                                                     [key], {});\n",
              "          if (!dataTable) return;\n",
              "\n",
              "          const docLinkHtml = 'Like what you see? Visit the ' +\n",
              "            '<a target=\"_blank\" href=https://colab.research.google.com/notebooks/data_table.ipynb>data table notebook</a>'\n",
              "            + ' to learn more about interactive tables.';\n",
              "          element.innerHTML = '';\n",
              "          dataTable['output_type'] = 'display_data';\n",
              "          await google.colab.output.renderOutput(dataTable, element);\n",
              "          const docLink = document.createElement('div');\n",
              "          docLink.innerHTML = docLinkHtml;\n",
              "          element.appendChild(docLink);\n",
              "        }\n",
              "      </script>\n",
              "    </div>\n",
              "  </div>\n",
              "  "
            ],
            "text/plain": [
              "     Year  ERSSTv5_ASO_MDR\n",
              "8    1878         28.55411\n",
              "75   1945         28.54538\n",
              "140  2010         28.65902"
            ]
          },
          "metadata": {},
          "execution_count": 23
        }
      ]
    },
    {
      "cell_type": "code",
      "source": [
        "fig, ax = plt.subplots(figsize=(16,8))\n",
        "ax.scatter(df_hurricanefinal1['Year'],df_hurricanefinal1['Nino34_DJF'])\n",
        "ax.set_xlabel('value')\n",
        "ax.set_ylabel('year')\n",
        "plt.show()"
      ],
      "metadata": {
        "colab": {
          "base_uri": "https://localhost:8080/",
          "height": 497
        },
        "id": "aH083liHxKIE",
        "outputId": "2e849444-933c-4877-804d-a72d132b3cfd"
      },
      "execution_count": 24,
      "outputs": [
        {
          "output_type": "display_data",
          "data": {
            "image/png": "[encoded data removed]",
            "text/plain": [
              "<Figure size 1152x576 with 1 Axes>"
            ]
          },
          "metadata": {
            "needs_background": "light"
          }
        }
      ]
    },
    {
      "cell_type": "code",
      "source": [
        "clusters=remove_outliers_DBSCAN((df_hurricanefinal1['Nino34_DJF']),0.1,3)\n",
        "clusters.value_counts().sort_values(ascending=False)\n",
        "df_cluster=pd.DataFrame(clusters)\n",
        "ind_outlier=df_cluster.index[df_cluster['cluster']==-1]\n",
        "ind_outlier"
      ],
      "metadata": {
        "colab": {
          "base_uri": "https://localhost:8080/"
        },
        "id": "Rb_2Lc-hxKQ9",
        "outputId": "790eacc5-8a1a-481f-df67-cd5be1fb5606"
      },
      "execution_count": 25,
      "outputs": [
        {
          "output_type": "execute_result",
          "data": {
            "text/plain": [
              "Int64Index([11, 95], dtype='int64')"
            ]
          },
          "metadata": {},
          "execution_count": 25
        }
      ]
    },
    {
      "cell_type": "code",
      "source": [
        "df_hurricanefinal1[['Year','Nino34_DJF']].iloc[ind_outlier]"
      ],
      "metadata": {
        "colab": {
          "base_uri": "https://localhost:8080/",
          "height": 112
        },
        "id": "mRrQp2aYxLk1",
        "outputId": "2f3c1253-2553-444a-e177-14d4bc1fa34d"
      },
      "execution_count": 26,
      "outputs": [
        {
          "output_type": "execute_result",
          "data": {
            "text/html": [
              "\n",
              "  <div id=\"df-cbaa4a0c-374c-4b08-8712-75ac53f379a1\">\n",
              "    <div class=\"colab-df-container\">\n",
              "      <div>\n",
              "<style scoped>\n",
              "    .dataframe tbody tr th:only-of-type {\n",
              "        vertical-align: middle;\n",
              "    }\n",
              "\n",
              "    .dataframe tbody tr th {\n",
              "        vertical-align: top;\n",
              "    }\n",
              "\n",
              "    .dataframe thead th {\n",
              "        text-align: right;\n",
              "    }\n",
              "</style>\n",
              "<table border=\"1\" class=\"dataframe\">\n",
              "  <thead>\n",
              "    <tr style=\"text-align: right;\">\n",
              "      <th></th>\n",
              "      <th>Year</th>\n",
              "      <th>Nino34_DJF</th>\n",
              "    </tr>\n",
              "  </thead>\n",
              "  <tbody>\n",
              "    <tr>\n",
              "      <th>19</th>\n",
              "      <td>1889</td>\n",
              "      <td>-1.95</td>\n",
              "    </tr>\n",
              "    <tr>\n",
              "      <th>103</th>\n",
              "      <td>1973</td>\n",
              "      <td>-1.90</td>\n",
              "    </tr>\n",
              "  </tbody>\n",
              "</table>\n",
              "</div>\n",
              "      <button class=\"colab-df-convert\" onclick=\"convertToInteractive('df-cbaa4a0c-374c-4b08-8712-75ac53f379a1')\"\n",
              "              title=\"Convert this dataframe to an interactive table.\"\n",
              "              style=\"display:none;\">\n",
              "        \n",
              "  <svg xmlns=\"http://www.w3.org/2000/svg\" height=\"24px\"viewBox=\"0 0 24 24\"\n",
              "       width=\"24px\">\n",
              "    <path d=\"M0 0h24v24H0V0z\" fill=\"none\"/>\n",
              "    <path d=\"M18.56 5.44l.94 2.06.94-2.06 2.06-.94-2.06-.94-.94-2.06-.94 2.06-2.06.94zm-11 1L8.5 8.5l.94-2.06 2.06-.94-2.06-.94L8.5 2.5l-.94 2.06-2.06.94zm10 10l.94 2.06.94-2.06 2.06-.94-2.06-.94-.94-2.06-.94 2.06-2.06.94z\"/><path d=\"M17.41 7.96l-1.37-1.37c-.4-.4-.92-.59-1.43-.59-.52 0-1.04.2-1.43.59L10.3 9.45l-7.72 7.72c-.78.78-.78 2.05 0 2.83L4 21.41c.39.39.9.59 1.41.59.51 0 1.02-.2 1.41-.59l7.78-7.78 2.81-2.81c.8-.78.8-2.07 0-2.86zM5.41 20L4 18.59l7.72-7.72 1.47 1.35L5.41 20z\"/>\n",
              "  </svg>\n",
              "      </button>\n",
              "      \n",
              "  <style>\n",
              "    .colab-df-container {\n",
              "      display:flex;\n",
              "      flex-wrap:wrap;\n",
              "      gap: 12px;\n",
              "    }\n",
              "\n",
              "    .colab-df-convert {\n",
              "      background-color: #E8F0FE;\n",
              "      border: none;\n",
              "      border-radius: 50%;\n",
              "      cursor: pointer;\n",
              "      display: none;\n",
              "      fill: #1967D2;\n",
              "      height: 32px;\n",
              "      padding: 0 0 0 0;\n",
              "      width: 32px;\n",
              "    }\n",
              "\n",
              "    .colab-df-convert:hover {\n",
              "      background-color: #E2EBFA;\n",
              "      box-shadow: 0px 1px 2px rgba(60, 64, 67, 0.3), 0px 1px 3px 1px rgba(60, 64, 67, 0.15);\n",
              "      fill: #174EA6;\n",
              "    }\n",
              "\n",
              "    [theme=dark] .colab-df-convert {\n",
              "      background-color: #3B4455;\n",
              "      fill: #D2E3FC;\n",
              "    }\n",
              "\n",
              "    [theme=dark] .colab-df-convert:hover {\n",
              "      background-color: #434B5C;\n",
              "      box-shadow: 0px 1px 3px 1px rgba(0, 0, 0, 0.15);\n",
              "      filter: drop-shadow(0px 1px 2px rgba(0, 0, 0, 0.3));\n",
              "      fill: #FFFFFF;\n",
              "    }\n",
              "  </style>\n",
              "\n",
              "      <script>\n",
              "        const buttonEl =\n",
              "          document.querySelector('#df-cbaa4a0c-374c-4b08-8712-75ac53f379a1 button.colab-df-convert');\n",
              "        buttonEl.style.display =\n",
              "          google.colab.kernel.accessAllowed ? 'block' : 'none';\n",
              "\n",
              "        async function convertToInteractive(key) {\n",
              "          const element = document.querySelector('#df-cbaa4a0c-374c-4b08-8712-75ac53f379a1');\n",
              "          const dataTable =\n",
              "            await google.colab.kernel.invokeFunction('convertToInteractive',\n",
              "                                                     [key], {});\n",
              "          if (!dataTable) return;\n",
              "\n",
              "          const docLinkHtml = 'Like what you see? Visit the ' +\n",
              "            '<a target=\"_blank\" href=https://colab.research.google.com/notebooks/data_table.ipynb>data table notebook</a>'\n",
              "            + ' to learn more about interactive tables.';\n",
              "          element.innerHTML = '';\n",
              "          dataTable['output_type'] = 'display_data';\n",
              "          await google.colab.output.renderOutput(dataTable, element);\n",
              "          const docLink = document.createElement('div');\n",
              "          docLink.innerHTML = docLinkHtml;\n",
              "          element.appendChild(docLink);\n",
              "        }\n",
              "      </script>\n",
              "    </div>\n",
              "  </div>\n",
              "  "
            ],
            "text/plain": [
              "     Year  Nino34_DJF\n",
              "19   1889       -1.95\n",
              "103  1973       -1.90"
            ]
          },
          "metadata": {},
          "execution_count": 26
        }
      ]
    },
    {
      "cell_type": "code",
      "source": [
        "fig, ax = plt.subplots(figsize=(16,8))\n",
        "ax.scatter(df_hurricanefinal1['Year'],df_hurricanefinal1['ERSSTv5_ASO_MDRRelative'])\n",
        "ax.set_xlabel('value')\n",
        "ax.set_ylabel('year')\n",
        "plt.show()"
      ],
      "metadata": {
        "colab": {
          "base_uri": "https://localhost:8080/",
          "height": 497
        },
        "id": "unVT0Glg1p5a",
        "outputId": "f2e1a91c-db41-4ff0-e538-556470343b88"
      },
      "execution_count": 27,
      "outputs": [
        {
          "output_type": "display_data",
          "data": {
            "image/png": "[encoded data removed]",
            "text/plain": [
              "<Figure size 1152x576 with 1 Axes>"
            ]
          },
          "metadata": {
            "needs_background": "light"
          }
        }
      ]
    },
    {
      "cell_type": "code",
      "source": [
        "clusters=remove_outliers_DBSCAN((df_hurricanefinal1['ERSSTv5_ASO_MDRRelative']),0.1,3)\n",
        "clusters.value_counts().sort_values(ascending=False)\n",
        "df_cluster=pd.DataFrame(clusters)\n",
        "ind_outlier=df_cluster.index[df_cluster['cluster']==-1]\n",
        "ind_outlier"
      ],
      "metadata": {
        "colab": {
          "base_uri": "https://localhost:8080/"
        },
        "id": "76-cwvrf1qQy",
        "outputId": "05e829ad-748f-44b2-b988-7ad8ee46f75a"
      },
      "execution_count": 28,
      "outputs": [
        {
          "output_type": "execute_result",
          "data": {
            "text/plain": [
              "Int64Index([1, 77], dtype='int64')"
            ]
          },
          "metadata": {},
          "execution_count": 28
        }
      ]
    },
    {
      "cell_type": "code",
      "source": [
        "df_hurricanefinal1[['Year','ERSSTv5_ASO_MDRRelative']].iloc[ind_outlier]"
      ],
      "metadata": {
        "colab": {
          "base_uri": "https://localhost:8080/",
          "height": 112
        },
        "id": "xI6C1qZ_1qTh",
        "outputId": "779c4c3c-14d6-49c1-ecc2-af3f89c22d76"
      },
      "execution_count": 29,
      "outputs": [
        {
          "output_type": "execute_result",
          "data": {
            "text/html": [
              "\n",
              "  <div id=\"df-6b989265-a020-49f7-a9c4-288e8aa4c32b\">\n",
              "    <div class=\"colab-df-container\">\n",
              "      <div>\n",
              "<style scoped>\n",
              "    .dataframe tbody tr th:only-of-type {\n",
              "        vertical-align: middle;\n",
              "    }\n",
              "\n",
              "    .dataframe tbody tr th {\n",
              "        vertical-align: top;\n",
              "    }\n",
              "\n",
              "    .dataframe thead th {\n",
              "        text-align: right;\n",
              "    }\n",
              "</style>\n",
              "<table border=\"1\" class=\"dataframe\">\n",
              "  <thead>\n",
              "    <tr style=\"text-align: right;\">\n",
              "      <th></th>\n",
              "      <th>Year</th>\n",
              "      <th>ERSSTv5_ASO_MDRRelative</th>\n",
              "    </tr>\n",
              "  </thead>\n",
              "  <tbody>\n",
              "    <tr>\n",
              "      <th>9</th>\n",
              "      <td>1879</td>\n",
              "      <td>0.591066</td>\n",
              "    </tr>\n",
              "    <tr>\n",
              "      <th>85</th>\n",
              "      <td>1955</td>\n",
              "      <td>0.616409</td>\n",
              "    </tr>\n",
              "  </tbody>\n",
              "</table>\n",
              "</div>\n",
              "      <button class=\"colab-df-convert\" onclick=\"convertToInteractive('df-6b989265-a020-49f7-a9c4-288e8aa4c32b')\"\n",
              "              title=\"Convert this dataframe to an interactive table.\"\n",
              "              style=\"display:none;\">\n",
              "        \n",
              "  <svg xmlns=\"http://www.w3.org/2000/svg\" height=\"24px\"viewBox=\"0 0 24 24\"\n",
              "       width=\"24px\">\n",
              "    <path d=\"M0 0h24v24H0V0z\" fill=\"none\"/>\n",
              "    <path d=\"M18.56 5.44l.94 2.06.94-2.06 2.06-.94-2.06-.94-.94-2.06-.94 2.06-2.06.94zm-11 1L8.5 8.5l.94-2.06 2.06-.94-2.06-.94L8.5 2.5l-.94 2.06-2.06.94zm10 10l.94 2.06.94-2.06 2.06-.94-2.06-.94-.94-2.06-.94 2.06-2.06.94z\"/><path d=\"M17.41 7.96l-1.37-1.37c-.4-.4-.92-.59-1.43-.59-.52 0-1.04.2-1.43.59L10.3 9.45l-7.72 7.72c-.78.78-.78 2.05 0 2.83L4 21.41c.39.39.9.59 1.41.59.51 0 1.02-.2 1.41-.59l7.78-7.78 2.81-2.81c.8-.78.8-2.07 0-2.86zM5.41 20L4 18.59l7.72-7.72 1.47 1.35L5.41 20z\"/>\n",
              "  </svg>\n",
              "      </button>\n",
              "      \n",
              "  <style>\n",
              "    .colab-df-container {\n",
              "      display:flex;\n",
              "      flex-wrap:wrap;\n",
              "      gap: 12px;\n",
              "    }\n",
              "\n",
              "    .colab-df-convert {\n",
              "      background-color: #E8F0FE;\n",
              "      border: none;\n",
              "      border-radius: 50%;\n",
              "      cursor: pointer;\n",
              "      display: none;\n",
              "      fill: #1967D2;\n",
              "      height: 32px;\n",
              "      padding: 0 0 0 0;\n",
              "      width: 32px;\n",
              "    }\n",
              "\n",
              "    .colab-df-convert:hover {\n",
              "      background-color: #E2EBFA;\n",
              "      box-shadow: 0px 1px 2px rgba(60, 64, 67, 0.3), 0px 1px 3px 1px rgba(60, 64, 67, 0.15);\n",
              "      fill: #174EA6;\n",
              "    }\n",
              "\n",
              "    [theme=dark] .colab-df-convert {\n",
              "      background-color: #3B4455;\n",
              "      fill: #D2E3FC;\n",
              "    }\n",
              "\n",
              "    [theme=dark] .colab-df-convert:hover {\n",
              "      background-color: #434B5C;\n",
              "      box-shadow: 0px 1px 3px 1px rgba(0, 0, 0, 0.15);\n",
              "      filter: drop-shadow(0px 1px 2px rgba(0, 0, 0, 0.3));\n",
              "      fill: #FFFFFF;\n",
              "    }\n",
              "  </style>\n",
              "\n",
              "      <script>\n",
              "        const buttonEl =\n",
              "          document.querySelector('#df-6b989265-a020-49f7-a9c4-288e8aa4c32b button.colab-df-convert');\n",
              "        buttonEl.style.display =\n",
              "          google.colab.kernel.accessAllowed ? 'block' : 'none';\n",
              "\n",
              "        async function convertToInteractive(key) {\n",
              "          const element = document.querySelector('#df-6b989265-a020-49f7-a9c4-288e8aa4c32b');\n",
              "          const dataTable =\n",
              "            await google.colab.kernel.invokeFunction('convertToInteractive',\n",
              "                                                     [key], {});\n",
              "          if (!dataTable) return;\n",
              "\n",
              "          const docLinkHtml = 'Like what you see? Visit the ' +\n",
              "            '<a target=\"_blank\" href=https://colab.research.google.com/notebooks/data_table.ipynb>data table notebook</a>'\n",
              "            + ' to learn more about interactive tables.';\n",
              "          element.innerHTML = '';\n",
              "          dataTable['output_type'] = 'display_data';\n",
              "          await google.colab.output.renderOutput(dataTable, element);\n",
              "          const docLink = document.createElement('div');\n",
              "          docLink.innerHTML = docLinkHtml;\n",
              "          element.appendChild(docLink);\n",
              "        }\n",
              "      </script>\n",
              "    </div>\n",
              "  </div>\n",
              "  "
            ],
            "text/plain": [
              "    Year  ERSSTv5_ASO_MDRRelative\n",
              "9   1879                 0.591066\n",
              "85  1955                 0.616409"
            ]
          },
          "metadata": {},
          "execution_count": 29
        }
      ]
    },
    {
      "cell_type": "code",
      "source": [
        "df_hurricanefinal1['ERSSTv5_ASO_MDR'].plot(kind = 'box')"
      ],
      "metadata": {
        "colab": {
          "base_uri": "https://localhost:8080/",
          "height": 287
        },
        "id": "iYelJ-OL1CrN",
        "outputId": "c1b069a4-104c-41f8-8d91-b00db9455fc5"
      },
      "execution_count": 30,
      "outputs": [
        {
          "output_type": "execute_result",
          "data": {
            "text/plain": [
              "<matplotlib.axes._subplots.AxesSubplot at 0x7f0fbbd6c3d0>"
            ]
          },
          "metadata": {},
          "execution_count": 30
        },
        {
          "output_type": "display_data",
          "data": {
            "image/png": "[encoded data removed]",
            "text/plain": [
              "<Figure size 432x288 with 1 Axes>"
            ]
          },
          "metadata": {
            "needs_background": "light"
          }
        }
      ]
    },
    {
      "cell_type": "code",
      "source": [
        "df_hurricanefinal1['Nino34_DJF'].plot(kind = 'box')"
      ],
      "metadata": {
        "colab": {
          "base_uri": "https://localhost:8080/",
          "height": 284
        },
        "id": "UmomsuIeV9rl",
        "outputId": "15b7677f-646e-4d1d-ce76-4fb7bbee8a03"
      },
      "execution_count": 31,
      "outputs": [
        {
          "output_type": "execute_result",
          "data": {
            "text/plain": [
              "<matplotlib.axes._subplots.AxesSubplot at 0x7f0fbbce5f50>"
            ]
          },
          "metadata": {},
          "execution_count": 31
        },
        {
          "output_type": "display_data",
          "data": {
            "image/png": "[encoded data removed]",
            "text/plain": [
              "<Figure size 432x288 with 1 Axes>"
            ]
          },
          "metadata": {
            "needs_background": "light"
          }
        }
      ]
    },
    {
      "cell_type": "code",
      "source": [
        "df_hurricanefinal1['ERSSTv5_ASO_MDRRelative'].plot(kind = 'box')"
      ],
      "metadata": {
        "colab": {
          "base_uri": "https://localhost:8080/",
          "height": 284
        },
        "id": "UT1ZCi2WV9u4",
        "outputId": "021bae6d-2943-4dd8-c82f-b719461d89e8"
      },
      "execution_count": 32,
      "outputs": [
        {
          "output_type": "execute_result",
          "data": {
            "text/plain": [
              "<matplotlib.axes._subplots.AxesSubplot at 0x7f0fbbcd8210>"
            ]
          },
          "metadata": {},
          "execution_count": 32
        },
        {
          "output_type": "display_data",
          "data": {
            "image/png": "[encoded data removed]",
            "text/plain": [
              "<Figure size 432x288 with 1 Axes>"
            ]
          },
          "metadata": {
            "needs_background": "light"
          }
        }
      ]
    }
  ]
}